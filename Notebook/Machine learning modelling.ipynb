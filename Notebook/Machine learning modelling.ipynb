{
 "cells": [
  {
   "cell_type": "code",
   "execution_count": 50,
   "id": "98d3ef46",
   "metadata": {},
   "outputs": [],
   "source": [
    "#importing packages\n",
    "import pandas as pd\n",
    "import numpy as np\n",
    "import seaborn as sns\n",
    "from matplotlib import pyplot as plt\n",
    "#data processing\n",
    "from sklearn.model_selection import train_test_split, GridSearchCV, StratifiedKFold, cross_val_score\n",
    "from sklearn.impute import SimpleImputer\n",
    "from sklearn.preprocessing import OneHotEncoder,MinMaxScaler\n",
    "from imblearn.over_sampling import SMOTE\n",
    "from statsmodels.stats.outliers_influence import variance_inflation_factor\n",
    "\n",
    "# importing models\n",
    "from sklearn.linear_model import LogisticRegression\n",
    "from sklearn.ensemble import AdaBoostClassifier\n",
    "from sklearn.svm import SVC\n",
    "from sklearn.ensemble import RandomForestClassifier, GradientBoostingClassifier\n",
    "from sklearn.tree import DecisionTreeClassifier\n",
    "from sklearn.naive_bayes import GaussianNB, ComplementNB\n",
    "import xgboost as xgb\n",
    "from catboost import CatBoostClassifier\n",
    "\n",
    "#Evaluation metrics\n",
    "from sklearn.metrics import roc_auc_score,log_loss\n",
    "from sklearn.metrics import classification_report, confusion_matrix \n",
    "from sklearn.metrics import accuracy_score\n",
    "\n",
    "import warnings\n",
    "warnings.filterwarnings('ignore')\n",
    "\n",
    "# Other packages\n",
    "from joblib import dump\n",
    "import os"
   ]
  },
  {
   "cell_type": "code",
   "execution_count": 51,
   "id": "41ba6819",
   "metadata": {},
   "outputs": [],
   "source": [
    "train_final=pd.read_csv('final_train.csv')"
   ]
  },
  {
   "cell_type": "code",
   "execution_count": 52,
   "id": "542c7681",
   "metadata": {},
   "outputs": [
    {
     "data": {
      "text/html": [
       "<div>\n",
       "<style scoped>\n",
       "    .dataframe tbody tr th:only-of-type {\n",
       "        vertical-align: middle;\n",
       "    }\n",
       "\n",
       "    .dataframe tbody tr th {\n",
       "        vertical-align: top;\n",
       "    }\n",
       "\n",
       "    .dataframe thead th {\n",
       "        text-align: right;\n",
       "    }\n",
       "</style>\n",
       "<table border=\"1\" class=\"dataframe\">\n",
       "  <thead>\n",
       "    <tr style=\"text-align: right;\">\n",
       "      <th></th>\n",
       "      <th>REGION</th>\n",
       "      <th>TENURE</th>\n",
       "      <th>MONTANT</th>\n",
       "      <th>FREQUENCE_RECH</th>\n",
       "      <th>REVENUE</th>\n",
       "      <th>ARPU_SEGMENT</th>\n",
       "      <th>FREQUENCE</th>\n",
       "      <th>DATA_VOLUME</th>\n",
       "      <th>ON_NET</th>\n",
       "      <th>ORANGE</th>\n",
       "      <th>TIGO</th>\n",
       "      <th>ZONE1</th>\n",
       "      <th>ZONE2</th>\n",
       "      <th>MRG</th>\n",
       "      <th>REGULARITY</th>\n",
       "      <th>TOP_PACK</th>\n",
       "      <th>FREQ_TOP_PACK</th>\n",
       "      <th>CHURN</th>\n",
       "    </tr>\n",
       "  </thead>\n",
       "  <tbody>\n",
       "    <tr>\n",
       "      <th>0</th>\n",
       "      <td>DAKAR</td>\n",
       "      <td>Long-term</td>\n",
       "      <td>20000.000000</td>\n",
       "      <td>47.000000</td>\n",
       "      <td>21602.000000</td>\n",
       "      <td>7201.000000</td>\n",
       "      <td>52.000000</td>\n",
       "      <td>8835.000000</td>\n",
       "      <td>3391.000000</td>\n",
       "      <td>396.000000</td>\n",
       "      <td>185.000000</td>\n",
       "      <td>8.167483</td>\n",
       "      <td>7.709844</td>\n",
       "      <td>NO</td>\n",
       "      <td>62</td>\n",
       "      <td>voice</td>\n",
       "      <td>30.000000</td>\n",
       "      <td>0</td>\n",
       "    </tr>\n",
       "    <tr>\n",
       "      <th>1</th>\n",
       "      <td>DAKAR</td>\n",
       "      <td>Long-term</td>\n",
       "      <td>5529.210895</td>\n",
       "      <td>11.523756</td>\n",
       "      <td>5506.050798</td>\n",
       "      <td>1835.355961</td>\n",
       "      <td>13.974439</td>\n",
       "      <td>3368.801722</td>\n",
       "      <td>277.065798</td>\n",
       "      <td>95.160804</td>\n",
       "      <td>23.105018</td>\n",
       "      <td>8.167483</td>\n",
       "      <td>7.709844</td>\n",
       "      <td>NO</td>\n",
       "      <td>3</td>\n",
       "      <td>voice</td>\n",
       "      <td>9.262446</td>\n",
       "      <td>0</td>\n",
       "    </tr>\n",
       "    <tr>\n",
       "      <th>2</th>\n",
       "      <td>DAKAR</td>\n",
       "      <td>Long-term</td>\n",
       "      <td>5529.210895</td>\n",
       "      <td>11.523756</td>\n",
       "      <td>5506.050798</td>\n",
       "      <td>1835.355961</td>\n",
       "      <td>13.974439</td>\n",
       "      <td>3368.801722</td>\n",
       "      <td>277.065798</td>\n",
       "      <td>95.160804</td>\n",
       "      <td>23.105018</td>\n",
       "      <td>8.167483</td>\n",
       "      <td>7.709844</td>\n",
       "      <td>NO</td>\n",
       "      <td>1</td>\n",
       "      <td>voice</td>\n",
       "      <td>9.262446</td>\n",
       "      <td>0</td>\n",
       "    </tr>\n",
       "    <tr>\n",
       "      <th>3</th>\n",
       "      <td>SAINT-LOUIS</td>\n",
       "      <td>Long-term</td>\n",
       "      <td>7900.000000</td>\n",
       "      <td>19.000000</td>\n",
       "      <td>7896.000000</td>\n",
       "      <td>2632.000000</td>\n",
       "      <td>25.000000</td>\n",
       "      <td>9385.000000</td>\n",
       "      <td>27.000000</td>\n",
       "      <td>46.000000</td>\n",
       "      <td>20.000000</td>\n",
       "      <td>8.167483</td>\n",
       "      <td>2.000000</td>\n",
       "      <td>NO</td>\n",
       "      <td>61</td>\n",
       "      <td>data</td>\n",
       "      <td>7.000000</td>\n",
       "      <td>0</td>\n",
       "    </tr>\n",
       "    <tr>\n",
       "      <th>4</th>\n",
       "      <td>DAKAR</td>\n",
       "      <td>Long-term</td>\n",
       "      <td>12350.000000</td>\n",
       "      <td>21.000000</td>\n",
       "      <td>12351.000000</td>\n",
       "      <td>4117.000000</td>\n",
       "      <td>29.000000</td>\n",
       "      <td>9360.000000</td>\n",
       "      <td>66.000000</td>\n",
       "      <td>102.000000</td>\n",
       "      <td>34.000000</td>\n",
       "      <td>8.167483</td>\n",
       "      <td>7.709844</td>\n",
       "      <td>NO</td>\n",
       "      <td>56</td>\n",
       "      <td>voice</td>\n",
       "      <td>11.000000</td>\n",
       "      <td>0</td>\n",
       "    </tr>\n",
       "  </tbody>\n",
       "</table>\n",
       "</div>"
      ],
      "text/plain": [
       "        REGION     TENURE       MONTANT  FREQUENCE_RECH       REVENUE  \\\n",
       "0        DAKAR  Long-term  20000.000000       47.000000  21602.000000   \n",
       "1        DAKAR  Long-term   5529.210895       11.523756   5506.050798   \n",
       "2        DAKAR  Long-term   5529.210895       11.523756   5506.050798   \n",
       "3  SAINT-LOUIS  Long-term   7900.000000       19.000000   7896.000000   \n",
       "4        DAKAR  Long-term  12350.000000       21.000000  12351.000000   \n",
       "\n",
       "   ARPU_SEGMENT  FREQUENCE  DATA_VOLUME       ON_NET      ORANGE        TIGO  \\\n",
       "0   7201.000000  52.000000  8835.000000  3391.000000  396.000000  185.000000   \n",
       "1   1835.355961  13.974439  3368.801722   277.065798   95.160804   23.105018   \n",
       "2   1835.355961  13.974439  3368.801722   277.065798   95.160804   23.105018   \n",
       "3   2632.000000  25.000000  9385.000000    27.000000   46.000000   20.000000   \n",
       "4   4117.000000  29.000000  9360.000000    66.000000  102.000000   34.000000   \n",
       "\n",
       "      ZONE1     ZONE2 MRG  REGULARITY TOP_PACK  FREQ_TOP_PACK  CHURN  \n",
       "0  8.167483  7.709844  NO          62    voice      30.000000      0  \n",
       "1  8.167483  7.709844  NO           3    voice       9.262446      0  \n",
       "2  8.167483  7.709844  NO           1    voice       9.262446      0  \n",
       "3  8.167483  2.000000  NO          61     data       7.000000      0  \n",
       "4  8.167483  7.709844  NO          56    voice      11.000000      0  "
      ]
     },
     "execution_count": 52,
     "metadata": {},
     "output_type": "execute_result"
    }
   ],
   "source": [
    "train_final.head()"
   ]
  },
  {
   "cell_type": "code",
   "execution_count": 53,
   "id": "69fbd728",
   "metadata": {},
   "outputs": [
    {
     "data": {
      "text/plain": [
       "REGION            0\n",
       "TENURE            0\n",
       "MONTANT           0\n",
       "FREQUENCE_RECH    0\n",
       "REVENUE           0\n",
       "ARPU_SEGMENT      0\n",
       "FREQUENCE         0\n",
       "DATA_VOLUME       0\n",
       "ON_NET            0\n",
       "ORANGE            0\n",
       "TIGO              0\n",
       "ZONE1             0\n",
       "ZONE2             0\n",
       "MRG               0\n",
       "REGULARITY        0\n",
       "TOP_PACK          0\n",
       "FREQ_TOP_PACK     0\n",
       "CHURN             0\n",
       "dtype: int64"
      ]
     },
     "execution_count": 53,
     "metadata": {},
     "output_type": "execute_result"
    }
   ],
   "source": [
    "train_final.isnull().sum()"
   ]
  },
  {
   "cell_type": "markdown",
   "id": "a2521e73",
   "metadata": {},
   "source": [
    "Ploting Correlation graph to see which columns are more related to the target variable"
   ]
  },
  {
   "cell_type": "code",
   "execution_count": 54,
   "id": "7ed438b9",
   "metadata": {},
   "outputs": [
    {
     "data": {
      "image/png": "[encoded data removed]",
      "text/plain": [
       "<Figure size 720x576 with 2 Axes>"
      ]
     },
     "metadata": {
      "needs_background": "light"
     },
     "output_type": "display_data"
    }
   ],
   "source": [
    "# Calculate correlation matrix\n",
    "correl =train_final.corr()\n",
    "\n",
    "# Create heatmap\n",
    "plt.figure(figsize=(10, 8))\n",
    "sns.heatmap(correl, annot=True)\n",
    "plt.title('Correlation Matrix')\n",
    "plt.show()"
   ]
  },
  {
   "cell_type": "code",
   "execution_count": 55,
   "id": "a04edaf1",
   "metadata": {},
   "outputs": [
    {
     "data": {
      "text/plain": [
       "<AxesSubplot:>"
      ]
     },
     "execution_count": 55,
     "metadata": {},
     "output_type": "execute_result"
    },
    {
     "data": {
      "image/png": "[encoded data removed]",
      "text/plain": [
       "<Figure size 1080x576 with 1 Axes>"
      ]
     },
     "metadata": {
      "needs_background": "light"
     },
     "output_type": "display_data"
    }
   ],
   "source": [
    "#Checking the Correlation of \"Churn\" with other variables in the dataset:\n",
    "plt.figure(figsize=(15,8))\n",
    "train_final.corr()['CHURN'].sort_values(ascending = False).plot(kind='bar')"
   ]
  },
  {
   "cell_type": "code",
   "execution_count": 56,
   "id": "46fc383f",
   "metadata": {},
   "outputs": [],
   "source": [
    "train_final.drop([\"MRG\"],axis=1, inplace=True)"
   ]
  },
  {
   "cell_type": "markdown",
   "id": "93ba6d90",
   "metadata": {},
   "source": [
    "## Feature Engineering"
   ]
  },
  {
   "cell_type": "code",
   "execution_count": 57,
   "id": "756ed63f",
   "metadata": {},
   "outputs": [],
   "source": [
    "#splitting data into train and validation data\n",
    "X_train,X_validation,y_train,y_validation = train_test_split(train_final.iloc[:, :-1], train_final.iloc[:, -1:],\n",
    "                                                    test_size=0.2, random_state=42, stratify=train_final.iloc[:, -1:])"
   ]
  },
  {
   "cell_type": "code",
   "execution_count": 58,
   "id": "1bd65762",
   "metadata": {},
   "outputs": [
    {
     "data": {
      "text/plain": [
       "((861619, 16), (215405, 16), (861619, 1), (215405, 1))"
      ]
     },
     "execution_count": 58,
     "metadata": {},
     "output_type": "execute_result"
    }
   ],
   "source": [
    "X_train.shape,X_validation.shape,y_train.shape,y_validation.shape"
   ]
  },
  {
   "cell_type": "code",
   "execution_count": 59,
   "id": "67e09010",
   "metadata": {},
   "outputs": [
    {
     "name": "stdout",
     "output_type": "stream",
     "text": [
      "Number of train duplicates:  255567\n",
      "Number of validation duplicate:  60461\n"
     ]
    }
   ],
   "source": [
    "#Checking for duplicates in the dataset\n",
    "train_duplicate = X_train.duplicated()\n",
    "validation_duplicate =X_validation.duplicated()\n",
    "print(\"Number of train duplicates: \", train_duplicate.sum())\n",
    "print(\"Number of validation duplicate: \",validation_duplicate.sum())"
   ]
  },
  {
   "cell_type": "code",
   "execution_count": 60,
   "id": "c7be6d0f",
   "metadata": {},
   "outputs": [],
   "source": [
    "# Removing duplicates and keeping the first instance\n",
    "X_train = X_train.drop_duplicates(keep='first')\n",
    "y_train = y_train[train_duplicate == False]\n",
    "\n",
    "X_validation = X_validation.drop_duplicates(keep='first')\n",
    "y_validation = y_validation[validation_duplicate == False]\n",
    "\n",
    "# Checking for duplicates in the filtered datasets\n",
    "train_duplicates_remaining = X_train.duplicated().sum()\n",
    "validation_duplicates_remaining = X_validation.duplicated().sum()\n"
   ]
  },
  {
   "cell_type": "code",
   "execution_count": 61,
   "id": "273769ea",
   "metadata": {},
   "outputs": [
    {
     "name": "stdout",
     "output_type": "stream",
     "text": [
      "Number duplicates in the train dataset:  0\n",
      "Number duplicates in the validation dataset:   0\n"
     ]
    }
   ],
   "source": [
    "print(\"Number duplicates in the train dataset: \", train_duplicates_remaining)\n",
    "print(\"Number duplicates in the validation dataset:  \", validation_duplicates_remaining)"
   ]
  },
  {
   "cell_type": "code",
   "execution_count": 62,
   "id": "d471d57d",
   "metadata": {},
   "outputs": [
    {
     "name": "stdout",
     "output_type": "stream",
     "text": [
      "missing values in train data:  REGION            0\n",
      "TENURE            0\n",
      "MONTANT           0\n",
      "FREQUENCE_RECH    0\n",
      "REVENUE           0\n",
      "ARPU_SEGMENT      0\n",
      "FREQUENCE         0\n",
      "DATA_VOLUME       0\n",
      "ON_NET            0\n",
      "ORANGE            0\n",
      "TIGO              0\n",
      "ZONE1             0\n",
      "ZONE2             0\n",
      "REGULARITY        0\n",
      "TOP_PACK          0\n",
      "FREQ_TOP_PACK     0\n",
      "dtype: int64\n"
     ]
    }
   ],
   "source": [
    "# Check for missing values in data\n",
    "train_missing_values = X_train.isnull().sum()\n",
    "print(\"missing values in train data: \", train_missing_values)"
   ]
  },
  {
   "cell_type": "markdown",
   "id": "fbc7ac1e",
   "metadata": {},
   "source": [
    "This was expected because the dataset has been cleaned in the other notebook"
   ]
  },
  {
   "cell_type": "code",
   "execution_count": 63,
   "id": "c00831e7",
   "metadata": {},
   "outputs": [
    {
     "name": "stdout",
     "output_type": "stream",
     "text": [
      "the missing values in the validation set is : REGION            0\n",
      "TENURE            0\n",
      "MONTANT           0\n",
      "FREQUENCE_RECH    0\n",
      "REVENUE           0\n",
      "ARPU_SEGMENT      0\n",
      "FREQUENCE         0\n",
      "DATA_VOLUME       0\n",
      "ON_NET            0\n",
      "ORANGE            0\n",
      "TIGO              0\n",
      "ZONE1             0\n",
      "ZONE2             0\n",
      "REGULARITY        0\n",
      "TOP_PACK          0\n",
      "FREQ_TOP_PACK     0\n",
      "dtype: int64\n"
     ]
    }
   ],
   "source": [
    "validation_missing_values = X_validation.isnull().sum()\n",
    "print(\"the missing values in the validation set is :\",validation_missing_values)"
   ]
  },
  {
   "cell_type": "markdown",
   "id": "ca0c4e17",
   "metadata": {},
   "source": [
    "## Encoding both the categorical variable and the target variable"
   ]
  },
  {
   "cell_type": "code",
   "execution_count": 64,
   "id": "7aeeb2c3",
   "metadata": {},
   "outputs": [],
   "source": [
    "#making a list of the numerical features\n",
    "num_columns = [col for col in X_train.columns if X_train[col].dtype != 'object']"
   ]
  },
  {
   "cell_type": "code",
   "execution_count": 65,
   "id": "6f2b1cee",
   "metadata": {},
   "outputs": [],
   "source": [
    "#imputing missing values\n",
    "numerical_imputer= SimpleImputer(strategy= \"median\")"
   ]
  },
  {
   "cell_type": "code",
   "execution_count": 66,
   "id": "83ed21e6",
   "metadata": {},
   "outputs": [],
   "source": [
    "#transforming\n",
    "X_train_imputed = numerical_imputer.fit_transform(X_train[num_columns])\n",
    "X_eval_imputed = numerical_imputer.transform(X_validation[num_columns])"
   ]
  },
  {
   "cell_type": "code",
   "execution_count": 67,
   "id": "3d76d66d",
   "metadata": {},
   "outputs": [],
   "source": [
    "#list of the catehorical features\n",
    "cat_columns = [col for col in X_train.columns if X_train[col].dtype == 'object']"
   ]
  },
  {
   "cell_type": "code",
   "execution_count": 68,
   "id": "95a359ce",
   "metadata": {},
   "outputs": [],
   "source": [
    "cat_imputer = SimpleImputer(strategy= \"most_frequent\")"
   ]
  },
  {
   "cell_type": "code",
   "execution_count": 69,
   "id": "6cf33eac",
   "metadata": {},
   "outputs": [],
   "source": [
    "#transform\n",
    "X_train_cat_imputed = cat_imputer.fit_transform(X_train[cat_columns])\n",
    "X_eval_cat_imputed = cat_imputer.transform(X_validation[cat_columns])"
   ]
  },
  {
   "cell_type": "code",
   "execution_count": 70,
   "id": "91b765fd",
   "metadata": {},
   "outputs": [],
   "source": [
    "#instanciating the onehotencoder\n",
    "encoder = OneHotEncoder(handle_unknown='ignore')\n",
    "\n",
    "X_train_encoded =pd.DataFrame(encoder.fit_transform(X_train_cat_imputed).toarray(),\n",
    "                                   columns=encoder.get_feature_names_out(cat_columns))\n",
    "\n",
    "X_validation_encoded =pd.DataFrame(encoder.transform(X_eval_cat_imputed).toarray(),\n",
    "                                   columns=encoder.get_feature_names_out(cat_columns))"
   ]
  },
  {
   "cell_type": "markdown",
   "id": "be9a8a5a",
   "metadata": {},
   "source": [
    "## Feature scalling"
   ]
  },
  {
   "cell_type": "code",
   "execution_count": 71,
   "id": "cd443821",
   "metadata": {},
   "outputs": [],
   "source": [
    "# instanciating the scaler\n",
    "scaler = MinMaxScaler()\n",
    "\n",
    "X_train_scaled = pd.DataFrame(scaler.fit_transform(X_train_imputed),columns =num_columns)\n",
    "X_validation_scaled = pd.DataFrame(scaler.transform(X_eval_imputed),columns =num_columns)"
   ]
  },
  {
   "cell_type": "markdown",
   "id": "a9d07892",
   "metadata": {},
   "source": [
    "**Joining the dataframe**"
   ]
  },
  {
   "cell_type": "code",
   "execution_count": 72,
   "id": "9865bd72",
   "metadata": {},
   "outputs": [],
   "source": [
    "Xtrain_final = pd.concat([X_train_scaled, X_train_encoded], axis=1)\n",
    "\n",
    "Xeval_final = pd.concat([X_validation_scaled, X_validation_encoded], axis=1)"
   ]
  },
  {
   "cell_type": "code",
   "execution_count": 73,
   "id": "ffb7c2fd",
   "metadata": {},
   "outputs": [
    {
     "data": {
      "text/html": [
       "<div>\n",
       "<style scoped>\n",
       "    .dataframe tbody tr th:only-of-type {\n",
       "        vertical-align: middle;\n",
       "    }\n",
       "\n",
       "    .dataframe tbody tr th {\n",
       "        vertical-align: top;\n",
       "    }\n",
       "\n",
       "    .dataframe thead th {\n",
       "        text-align: right;\n",
       "    }\n",
       "</style>\n",
       "<table border=\"1\" class=\"dataframe\">\n",
       "  <thead>\n",
       "    <tr style=\"text-align: right;\">\n",
       "      <th></th>\n",
       "      <th>MONTANT</th>\n",
       "      <th>FREQUENCE_RECH</th>\n",
       "      <th>REVENUE</th>\n",
       "      <th>ARPU_SEGMENT</th>\n",
       "      <th>FREQUENCE</th>\n",
       "      <th>DATA_VOLUME</th>\n",
       "      <th>ON_NET</th>\n",
       "      <th>ORANGE</th>\n",
       "      <th>TIGO</th>\n",
       "      <th>ZONE1</th>\n",
       "      <th>...</th>\n",
       "      <th>TENURE_Mid-term</th>\n",
       "      <th>TENURE_Short-term</th>\n",
       "      <th>TENURE_Very short-term</th>\n",
       "      <th>TOP_PACK_VAS</th>\n",
       "      <th>TOP_PACK_data</th>\n",
       "      <th>TOP_PACK_international</th>\n",
       "      <th>TOP_PACK_messaging</th>\n",
       "      <th>TOP_PACK_other_services</th>\n",
       "      <th>TOP_PACK_social_media</th>\n",
       "      <th>TOP_PACK_voice</th>\n",
       "    </tr>\n",
       "  </thead>\n",
       "  <tbody>\n",
       "    <tr>\n",
       "      <th>0</th>\n",
       "      <td>0.011722</td>\n",
       "      <td>0.080952</td>\n",
       "      <td>0.010344</td>\n",
       "      <td>0.010346</td>\n",
       "      <td>0.144160</td>\n",
       "      <td>0.002491</td>\n",
       "      <td>0.005453</td>\n",
       "      <td>0.007904</td>\n",
       "      <td>0.005535</td>\n",
       "      <td>0.003258</td>\n",
       "      <td>...</td>\n",
       "      <td>0.0</td>\n",
       "      <td>0.0</td>\n",
       "      <td>0.0</td>\n",
       "      <td>0.0</td>\n",
       "      <td>0.0</td>\n",
       "      <td>0.0</td>\n",
       "      <td>0.0</td>\n",
       "      <td>0.0</td>\n",
       "      <td>0.0</td>\n",
       "      <td>1.0</td>\n",
       "    </tr>\n",
       "    <tr>\n",
       "      <th>1</th>\n",
       "      <td>0.011235</td>\n",
       "      <td>0.092308</td>\n",
       "      <td>0.009961</td>\n",
       "      <td>0.009961</td>\n",
       "      <td>0.177778</td>\n",
       "      <td>0.006189</td>\n",
       "      <td>0.005453</td>\n",
       "      <td>0.000332</td>\n",
       "      <td>0.000000</td>\n",
       "      <td>0.003258</td>\n",
       "      <td>...</td>\n",
       "      <td>0.0</td>\n",
       "      <td>0.0</td>\n",
       "      <td>0.0</td>\n",
       "      <td>0.0</td>\n",
       "      <td>1.0</td>\n",
       "      <td>0.0</td>\n",
       "      <td>0.0</td>\n",
       "      <td>0.0</td>\n",
       "      <td>0.0</td>\n",
       "      <td>0.0</td>\n",
       "    </tr>\n",
       "    <tr>\n",
       "      <th>2</th>\n",
       "      <td>0.001021</td>\n",
       "      <td>0.000000</td>\n",
       "      <td>0.000938</td>\n",
       "      <td>0.000941</td>\n",
       "      <td>0.000000</td>\n",
       "      <td>0.000101</td>\n",
       "      <td>0.000197</td>\n",
       "      <td>0.000581</td>\n",
       "      <td>0.005535</td>\n",
       "      <td>0.003258</td>\n",
       "      <td>...</td>\n",
       "      <td>0.0</td>\n",
       "      <td>0.0</td>\n",
       "      <td>0.0</td>\n",
       "      <td>0.0</td>\n",
       "      <td>0.0</td>\n",
       "      <td>0.0</td>\n",
       "      <td>0.0</td>\n",
       "      <td>0.0</td>\n",
       "      <td>0.0</td>\n",
       "      <td>1.0</td>\n",
       "    </tr>\n",
       "    <tr>\n",
       "      <th>3</th>\n",
       "      <td>0.010596</td>\n",
       "      <td>0.061538</td>\n",
       "      <td>0.009394</td>\n",
       "      <td>0.009397</td>\n",
       "      <td>0.088889</td>\n",
       "      <td>0.002491</td>\n",
       "      <td>0.005491</td>\n",
       "      <td>0.002907</td>\n",
       "      <td>0.003594</td>\n",
       "      <td>0.003258</td>\n",
       "      <td>...</td>\n",
       "      <td>0.0</td>\n",
       "      <td>0.0</td>\n",
       "      <td>0.0</td>\n",
       "      <td>0.0</td>\n",
       "      <td>0.0</td>\n",
       "      <td>0.0</td>\n",
       "      <td>0.0</td>\n",
       "      <td>0.0</td>\n",
       "      <td>0.0</td>\n",
       "      <td>1.0</td>\n",
       "    </tr>\n",
       "    <tr>\n",
       "      <th>4</th>\n",
       "      <td>0.011722</td>\n",
       "      <td>0.080952</td>\n",
       "      <td>0.000036</td>\n",
       "      <td>0.000039</td>\n",
       "      <td>0.000000</td>\n",
       "      <td>0.002491</td>\n",
       "      <td>0.005453</td>\n",
       "      <td>0.000000</td>\n",
       "      <td>0.005535</td>\n",
       "      <td>0.003258</td>\n",
       "      <td>...</td>\n",
       "      <td>0.0</td>\n",
       "      <td>0.0</td>\n",
       "      <td>0.0</td>\n",
       "      <td>0.0</td>\n",
       "      <td>0.0</td>\n",
       "      <td>0.0</td>\n",
       "      <td>0.0</td>\n",
       "      <td>0.0</td>\n",
       "      <td>0.0</td>\n",
       "      <td>1.0</td>\n",
       "    </tr>\n",
       "  </tbody>\n",
       "</table>\n",
       "<p>5 rows × 39 columns</p>\n",
       "</div>"
      ],
      "text/plain": [
       "    MONTANT  FREQUENCE_RECH   REVENUE  ARPU_SEGMENT  FREQUENCE  DATA_VOLUME  \\\n",
       "0  0.011722        0.080952  0.010344      0.010346   0.144160     0.002491   \n",
       "1  0.011235        0.092308  0.009961      0.009961   0.177778     0.006189   \n",
       "2  0.001021        0.000000  0.000938      0.000941   0.000000     0.000101   \n",
       "3  0.010596        0.061538  0.009394      0.009397   0.088889     0.002491   \n",
       "4  0.011722        0.080952  0.000036      0.000039   0.000000     0.002491   \n",
       "\n",
       "     ON_NET    ORANGE      TIGO     ZONE1  ...  TENURE_Mid-term  \\\n",
       "0  0.005453  0.007904  0.005535  0.003258  ...              0.0   \n",
       "1  0.005453  0.000332  0.000000  0.003258  ...              0.0   \n",
       "2  0.000197  0.000581  0.005535  0.003258  ...              0.0   \n",
       "3  0.005491  0.002907  0.003594  0.003258  ...              0.0   \n",
       "4  0.005453  0.000000  0.005535  0.003258  ...              0.0   \n",
       "\n",
       "   TENURE_Short-term  TENURE_Very short-term  TOP_PACK_VAS  TOP_PACK_data  \\\n",
       "0                0.0                     0.0           0.0            0.0   \n",
       "1                0.0                     0.0           0.0            1.0   \n",
       "2                0.0                     0.0           0.0            0.0   \n",
       "3                0.0                     0.0           0.0            0.0   \n",
       "4                0.0                     0.0           0.0            0.0   \n",
       "\n",
       "   TOP_PACK_international  TOP_PACK_messaging  TOP_PACK_other_services  \\\n",
       "0                     0.0                 0.0                      0.0   \n",
       "1                     0.0                 0.0                      0.0   \n",
       "2                     0.0                 0.0                      0.0   \n",
       "3                     0.0                 0.0                      0.0   \n",
       "4                     0.0                 0.0                      0.0   \n",
       "\n",
       "   TOP_PACK_social_media  TOP_PACK_voice  \n",
       "0                    0.0             1.0  \n",
       "1                    0.0             0.0  \n",
       "2                    0.0             1.0  \n",
       "3                    0.0             1.0  \n",
       "4                    0.0             1.0  \n",
       "\n",
       "[5 rows x 39 columns]"
      ]
     },
     "execution_count": 73,
     "metadata": {},
     "output_type": "execute_result"
    }
   ],
   "source": [
    "Xtrain_final.head()"
   ]
  },
  {
   "cell_type": "code",
   "execution_count": 74,
   "id": "e8507588",
   "metadata": {},
   "outputs": [
    {
     "data": {
      "text/html": [
       "<div>\n",
       "<style scoped>\n",
       "    .dataframe tbody tr th:only-of-type {\n",
       "        vertical-align: middle;\n",
       "    }\n",
       "\n",
       "    .dataframe tbody tr th {\n",
       "        vertical-align: top;\n",
       "    }\n",
       "\n",
       "    .dataframe thead th {\n",
       "        text-align: right;\n",
       "    }\n",
       "</style>\n",
       "<table border=\"1\" class=\"dataframe\">\n",
       "  <thead>\n",
       "    <tr style=\"text-align: right;\">\n",
       "      <th></th>\n",
       "      <th>MONTANT</th>\n",
       "      <th>FREQUENCE_RECH</th>\n",
       "      <th>REVENUE</th>\n",
       "      <th>ARPU_SEGMENT</th>\n",
       "      <th>FREQUENCE</th>\n",
       "      <th>DATA_VOLUME</th>\n",
       "      <th>ON_NET</th>\n",
       "      <th>ORANGE</th>\n",
       "      <th>TIGO</th>\n",
       "      <th>ZONE1</th>\n",
       "      <th>...</th>\n",
       "      <th>TENURE_Mid-term</th>\n",
       "      <th>TENURE_Short-term</th>\n",
       "      <th>TENURE_Very short-term</th>\n",
       "      <th>TOP_PACK_VAS</th>\n",
       "      <th>TOP_PACK_data</th>\n",
       "      <th>TOP_PACK_international</th>\n",
       "      <th>TOP_PACK_messaging</th>\n",
       "      <th>TOP_PACK_other_services</th>\n",
       "      <th>TOP_PACK_social_media</th>\n",
       "      <th>TOP_PACK_voice</th>\n",
       "    </tr>\n",
       "  </thead>\n",
       "  <tbody>\n",
       "    <tr>\n",
       "      <th>0</th>\n",
       "      <td>0.000383</td>\n",
       "      <td>0.000000</td>\n",
       "      <td>0.010344</td>\n",
       "      <td>0.010346</td>\n",
       "      <td>0.144160</td>\n",
       "      <td>0.002491</td>\n",
       "      <td>0.005453</td>\n",
       "      <td>0.007904</td>\n",
       "      <td>0.005535</td>\n",
       "      <td>0.003258</td>\n",
       "      <td>...</td>\n",
       "      <td>0.0</td>\n",
       "      <td>0.0</td>\n",
       "      <td>0.0</td>\n",
       "      <td>0.0</td>\n",
       "      <td>0.0</td>\n",
       "      <td>0.0</td>\n",
       "      <td>0.0</td>\n",
       "      <td>0.0</td>\n",
       "      <td>0.0</td>\n",
       "      <td>1.0</td>\n",
       "    </tr>\n",
       "    <tr>\n",
       "      <th>1</th>\n",
       "      <td>0.011722</td>\n",
       "      <td>0.080952</td>\n",
       "      <td>0.010344</td>\n",
       "      <td>0.010346</td>\n",
       "      <td>0.144160</td>\n",
       "      <td>0.002491</td>\n",
       "      <td>0.005453</td>\n",
       "      <td>0.007904</td>\n",
       "      <td>0.005535</td>\n",
       "      <td>0.003258</td>\n",
       "      <td>...</td>\n",
       "      <td>0.0</td>\n",
       "      <td>0.0</td>\n",
       "      <td>0.0</td>\n",
       "      <td>0.0</td>\n",
       "      <td>0.0</td>\n",
       "      <td>0.0</td>\n",
       "      <td>0.0</td>\n",
       "      <td>0.0</td>\n",
       "      <td>0.0</td>\n",
       "      <td>1.0</td>\n",
       "    </tr>\n",
       "    <tr>\n",
       "      <th>2</th>\n",
       "      <td>0.032938</td>\n",
       "      <td>0.146154</td>\n",
       "      <td>0.027241</td>\n",
       "      <td>0.027245</td>\n",
       "      <td>0.311111</td>\n",
       "      <td>0.002491</td>\n",
       "      <td>0.006141</td>\n",
       "      <td>0.008970</td>\n",
       "      <td>0.015812</td>\n",
       "      <td>0.003258</td>\n",
       "      <td>...</td>\n",
       "      <td>0.0</td>\n",
       "      <td>0.0</td>\n",
       "      <td>0.0</td>\n",
       "      <td>0.0</td>\n",
       "      <td>0.0</td>\n",
       "      <td>0.0</td>\n",
       "      <td>0.0</td>\n",
       "      <td>0.0</td>\n",
       "      <td>0.0</td>\n",
       "      <td>1.0</td>\n",
       "    </tr>\n",
       "    <tr>\n",
       "      <th>3</th>\n",
       "      <td>0.002511</td>\n",
       "      <td>0.038462</td>\n",
       "      <td>0.002255</td>\n",
       "      <td>0.002255</td>\n",
       "      <td>0.177778</td>\n",
       "      <td>0.002491</td>\n",
       "      <td>0.000236</td>\n",
       "      <td>0.000332</td>\n",
       "      <td>0.000000</td>\n",
       "      <td>0.003258</td>\n",
       "      <td>...</td>\n",
       "      <td>0.0</td>\n",
       "      <td>0.0</td>\n",
       "      <td>0.0</td>\n",
       "      <td>0.0</td>\n",
       "      <td>0.0</td>\n",
       "      <td>0.0</td>\n",
       "      <td>0.0</td>\n",
       "      <td>0.0</td>\n",
       "      <td>0.0</td>\n",
       "      <td>1.0</td>\n",
       "    </tr>\n",
       "    <tr>\n",
       "      <th>4</th>\n",
       "      <td>0.006553</td>\n",
       "      <td>0.061538</td>\n",
       "      <td>0.005820</td>\n",
       "      <td>0.005823</td>\n",
       "      <td>0.100000</td>\n",
       "      <td>0.002491</td>\n",
       "      <td>0.001397</td>\n",
       "      <td>0.004070</td>\n",
       "      <td>0.003594</td>\n",
       "      <td>0.003258</td>\n",
       "      <td>...</td>\n",
       "      <td>0.0</td>\n",
       "      <td>0.0</td>\n",
       "      <td>0.0</td>\n",
       "      <td>0.0</td>\n",
       "      <td>0.0</td>\n",
       "      <td>0.0</td>\n",
       "      <td>0.0</td>\n",
       "      <td>0.0</td>\n",
       "      <td>0.0</td>\n",
       "      <td>1.0</td>\n",
       "    </tr>\n",
       "  </tbody>\n",
       "</table>\n",
       "<p>5 rows × 39 columns</p>\n",
       "</div>"
      ],
      "text/plain": [
       "    MONTANT  FREQUENCE_RECH   REVENUE  ARPU_SEGMENT  FREQUENCE  DATA_VOLUME  \\\n",
       "0  0.000383        0.000000  0.010344      0.010346   0.144160     0.002491   \n",
       "1  0.011722        0.080952  0.010344      0.010346   0.144160     0.002491   \n",
       "2  0.032938        0.146154  0.027241      0.027245   0.311111     0.002491   \n",
       "3  0.002511        0.038462  0.002255      0.002255   0.177778     0.002491   \n",
       "4  0.006553        0.061538  0.005820      0.005823   0.100000     0.002491   \n",
       "\n",
       "     ON_NET    ORANGE      TIGO     ZONE1  ...  TENURE_Mid-term  \\\n",
       "0  0.005453  0.007904  0.005535  0.003258  ...              0.0   \n",
       "1  0.005453  0.007904  0.005535  0.003258  ...              0.0   \n",
       "2  0.006141  0.008970  0.015812  0.003258  ...              0.0   \n",
       "3  0.000236  0.000332  0.000000  0.003258  ...              0.0   \n",
       "4  0.001397  0.004070  0.003594  0.003258  ...              0.0   \n",
       "\n",
       "   TENURE_Short-term  TENURE_Very short-term  TOP_PACK_VAS  TOP_PACK_data  \\\n",
       "0                0.0                     0.0           0.0            0.0   \n",
       "1                0.0                     0.0           0.0            0.0   \n",
       "2                0.0                     0.0           0.0            0.0   \n",
       "3                0.0                     0.0           0.0            0.0   \n",
       "4                0.0                     0.0           0.0            0.0   \n",
       "\n",
       "   TOP_PACK_international  TOP_PACK_messaging  TOP_PACK_other_services  \\\n",
       "0                     0.0                 0.0                      0.0   \n",
       "1                     0.0                 0.0                      0.0   \n",
       "2                     0.0                 0.0                      0.0   \n",
       "3                     0.0                 0.0                      0.0   \n",
       "4                     0.0                 0.0                      0.0   \n",
       "\n",
       "   TOP_PACK_social_media  TOP_PACK_voice  \n",
       "0                    0.0             1.0  \n",
       "1                    0.0             1.0  \n",
       "2                    0.0             1.0  \n",
       "3                    0.0             1.0  \n",
       "4                    0.0             1.0  \n",
       "\n",
       "[5 rows x 39 columns]"
      ]
     },
     "execution_count": 74,
     "metadata": {},
     "output_type": "execute_result"
    }
   ],
   "source": [
    "Xeval_final.head()"
   ]
  },
  {
   "cell_type": "code",
   "execution_count": 75,
   "id": "13e4af8c",
   "metadata": {},
   "outputs": [
    {
     "data": {
      "text/plain": [
       "MONTANT                    0\n",
       "FREQUENCE_RECH             0\n",
       "REVENUE                    0\n",
       "ARPU_SEGMENT               0\n",
       "FREQUENCE                  0\n",
       "DATA_VOLUME                0\n",
       "ON_NET                     0\n",
       "ORANGE                     0\n",
       "TIGO                       0\n",
       "ZONE1                      0\n",
       "ZONE2                      0\n",
       "REGULARITY                 0\n",
       "FREQ_TOP_PACK              0\n",
       "REGION_DAKAR               0\n",
       "REGION_DIOURBEL            0\n",
       "REGION_FATICK              0\n",
       "REGION_KAFFRINE            0\n",
       "REGION_KAOLACK             0\n",
       "REGION_KEDOUGOU            0\n",
       "REGION_KOLDA               0\n",
       "REGION_LOUGA               0\n",
       "REGION_MATAM               0\n",
       "REGION_SAINT-LOUIS         0\n",
       "REGION_SEDHIOU             0\n",
       "REGION_TAMBACOUNDA         0\n",
       "REGION_THIES               0\n",
       "REGION_ZIGUINCHOR          0\n",
       "TENURE_Long-term           0\n",
       "TENURE_Medium-term         0\n",
       "TENURE_Mid-term            0\n",
       "TENURE_Short-term          0\n",
       "TENURE_Very short-term     0\n",
       "TOP_PACK_VAS               0\n",
       "TOP_PACK_data              0\n",
       "TOP_PACK_international     0\n",
       "TOP_PACK_messaging         0\n",
       "TOP_PACK_other_services    0\n",
       "TOP_PACK_social_media      0\n",
       "TOP_PACK_voice             0\n",
       "dtype: int64"
      ]
     },
     "execution_count": 75,
     "metadata": {},
     "output_type": "execute_result"
    }
   ],
   "source": [
    "Xtrain_final.isnull().sum()"
   ]
  },
  {
   "cell_type": "markdown",
   "id": "d588aee5",
   "metadata": {},
   "source": [
    "**Checking the shape for the train and Eval set**"
   ]
  },
  {
   "cell_type": "code",
   "execution_count": 76,
   "id": "2fb8bb88",
   "metadata": {},
   "outputs": [
    {
     "data": {
      "text/plain": [
       "((606052, 39), (154944, 39))"
      ]
     },
     "execution_count": 76,
     "metadata": {},
     "output_type": "execute_result"
    }
   ],
   "source": [
    "Xtrain_final.shape,Xeval_final.shape"
   ]
  },
  {
   "cell_type": "markdown",
   "id": "9d874c01",
   "metadata": {},
   "source": [
    "## Machine Learning Model \n",
    "### In this section of the notebook, we are training machine learning models with the prepared dataset"
   ]
  },
  {
   "cell_type": "markdown",
   "id": "12b5c8db",
   "metadata": {},
   "source": [
    "## Evaluation\n",
    "**As per the requirement of the challeng, we will the Area Under the Curve (AUC) measure to evaluate the performance of the model**"
   ]
  },
  {
   "cell_type": "markdown",
   "id": "55608724",
   "metadata": {},
   "source": [
    "### Model 1: RandomForestClassifier"
   ]
  },
  {
   "cell_type": "code",
   "execution_count": 78,
   "id": "ff875dba",
   "metadata": {},
   "outputs": [
    {
     "data": {
      "text/html": [
       "<style>#sk-container-id-2 {color: black;}#sk-container-id-2 pre{padding: 0;}#sk-container-id-2 div.sk-toggleable {background-color: white;}#sk-container-id-2 label.sk-toggleable__label {cursor: pointer;display: block;width: 100%;margin-bottom: 0;padding: 0.3em;box-sizing: border-box;text-align: center;}#sk-container-id-2 label.sk-toggleable__label-arrow:before {content: \"▸\";float: left;margin-right: 0.25em;color: #696969;}#sk-container-id-2 label.sk-toggleable__label-arrow:hover:before {color: black;}#sk-container-id-2 div.sk-estimator:hover label.sk-toggleable__label-arrow:before {color: black;}#sk-container-id-2 div.sk-toggleable__content {max-height: 0;max-width: 0;overflow: hidden;text-align: left;background-color: #f0f8ff;}#sk-container-id-2 div.sk-toggleable__content pre {margin: 0.2em;color: black;border-radius: 0.25em;background-color: #f0f8ff;}#sk-container-id-2 input.sk-toggleable__control:checked~div.sk-toggleable__content {max-height: 200px;max-width: 100%;overflow: auto;}#sk-container-id-2 input.sk-toggleable__control:checked~label.sk-toggleable__label-arrow:before {content: \"▾\";}#sk-container-id-2 div.sk-estimator input.sk-toggleable__control:checked~label.sk-toggleable__label {background-color: #d4ebff;}#sk-container-id-2 div.sk-label input.sk-toggleable__control:checked~label.sk-toggleable__label {background-color: #d4ebff;}#sk-container-id-2 input.sk-hidden--visually {border: 0;clip: rect(1px 1px 1px 1px);clip: rect(1px, 1px, 1px, 1px);height: 1px;margin: -1px;overflow: hidden;padding: 0;position: absolute;width: 1px;}#sk-container-id-2 div.sk-estimator {font-family: monospace;background-color: #f0f8ff;border: 1px dotted black;border-radius: 0.25em;box-sizing: border-box;margin-bottom: 0.5em;}#sk-container-id-2 div.sk-estimator:hover {background-color: #d4ebff;}#sk-container-id-2 div.sk-parallel-item::after {content: \"\";width: 100%;border-bottom: 1px solid gray;flex-grow: 1;}#sk-container-id-2 div.sk-label:hover label.sk-toggleable__label {background-color: #d4ebff;}#sk-container-id-2 div.sk-serial::before {content: \"\";position: absolute;border-left: 1px solid gray;box-sizing: border-box;top: 0;bottom: 0;left: 50%;z-index: 0;}#sk-container-id-2 div.sk-serial {display: flex;flex-direction: column;align-items: center;background-color: white;padding-right: 0.2em;padding-left: 0.2em;position: relative;}#sk-container-id-2 div.sk-item {position: relative;z-index: 1;}#sk-container-id-2 div.sk-parallel {display: flex;align-items: stretch;justify-content: center;background-color: white;position: relative;}#sk-container-id-2 div.sk-item::before, #sk-container-id-2 div.sk-parallel-item::before {content: \"\";position: absolute;border-left: 1px solid gray;box-sizing: border-box;top: 0;bottom: 0;left: 50%;z-index: -1;}#sk-container-id-2 div.sk-parallel-item {display: flex;flex-direction: column;z-index: 1;position: relative;background-color: white;}#sk-container-id-2 div.sk-parallel-item:first-child::after {align-self: flex-end;width: 50%;}#sk-container-id-2 div.sk-parallel-item:last-child::after {align-self: flex-start;width: 50%;}#sk-container-id-2 div.sk-parallel-item:only-child::after {width: 0;}#sk-container-id-2 div.sk-dashed-wrapped {border: 1px dashed gray;margin: 0 0.4em 0.5em 0.4em;box-sizing: border-box;padding-bottom: 0.4em;background-color: white;}#sk-container-id-2 div.sk-label label {font-family: monospace;font-weight: bold;display: inline-block;line-height: 1.2em;}#sk-container-id-2 div.sk-label-container {text-align: center;}#sk-container-id-2 div.sk-container {/* jupyter's `normalize.less` sets `[hidden] { display: none; }` but bootstrap.min.css set `[hidden] { display: none !important; }` so we also need the `!important` here to be able to override the default hidden behavior on the sphinx rendered scikit-learn.org. See: https://github.com/scikit-learn/scikit-learn/issues/21755 */display: inline-block !important;position: relative;}#sk-container-id-2 div.sk-text-repr-fallback {display: none;}</style><div id=\"sk-container-id-2\" class=\"sk-top-container\"><div class=\"sk-text-repr-fallback\"><pre>RandomForestClassifier(random_state=42)</pre><b>In a Jupyter environment, please rerun this cell to show the HTML representation or trust the notebook. <br />On GitHub, the HTML representation is unable to render, please try loading this page with nbviewer.org.</b></div><div class=\"sk-container\" hidden><div class=\"sk-item\"><div class=\"sk-estimator sk-toggleable\"><input class=\"sk-toggleable__control sk-hidden--visually\" id=\"sk-estimator-id-2\" type=\"checkbox\" checked><label for=\"sk-estimator-id-2\" class=\"sk-toggleable__label sk-toggleable__label-arrow\">RandomForestClassifier</label><div class=\"sk-toggleable__content\"><pre>RandomForestClassifier(random_state=42)</pre></div></div></div></div></div>"
      ],
      "text/plain": [
       "RandomForestClassifier(random_state=42)"
      ]
     },
     "execution_count": 78,
     "metadata": {},
     "output_type": "execute_result"
    }
   ],
   "source": [
    "rf_model =  RandomForestClassifier(random_state =42)\n",
    "rf_model.fit(Xtrain_final,y_train)"
   ]
  },
  {
   "cell_type": "code",
   "execution_count": 79,
   "id": "0edfe2f6",
   "metadata": {},
   "outputs": [],
   "source": [
    "# making prediction\n",
    "rf_probabilities = rf_model.predict_proba(Xeval_final)\n",
    "rf_preds = rf_model.predict(Xeval_final)"
   ]
  },
  {
   "cell_type": "markdown",
   "id": "2a523bc1",
   "metadata": {},
   "source": [
    "**Evaluation of the model performance**"
   ]
  },
  {
   "cell_type": "code",
   "execution_count": 80,
   "id": "7fe78955",
   "metadata": {},
   "outputs": [],
   "source": [
    "# Calculate the ROC AUC score\n",
    "rf_auc_score = roc_auc_score(y_validation,rf_preds)\n",
    "\n",
    "# Calculate the log loss\n",
    "rf_logloss = log_loss(y_validation,rf_probabilities)"
   ]
  },
  {
   "cell_type": "code",
   "execution_count": 81,
   "id": "7fea432f",
   "metadata": {},
   "outputs": [
    {
     "name": "stdout",
     "output_type": "stream",
     "text": [
      "The models AUC_score is:  0.5766027864341654\n",
      "The models probability is:  0.25410922248016277\n"
     ]
    }
   ],
   "source": [
    "print('The models AUC_score is: ',rf_auc_score)\n",
    "print('The models probability is: ',rf_logloss)"
   ]
  },
  {
   "cell_type": "markdown",
   "id": "26415275",
   "metadata": {},
   "source": [
    "## Model 2: GaussianNB"
   ]
  },
  {
   "cell_type": "code",
   "execution_count": 82,
   "id": "3b5fa3b6",
   "metadata": {},
   "outputs": [
    {
     "data": {
      "text/html": [
       "<style>#sk-container-id-3 {color: black;}#sk-container-id-3 pre{padding: 0;}#sk-container-id-3 div.sk-toggleable {background-color: white;}#sk-container-id-3 label.sk-toggleable__label {cursor: pointer;display: block;width: 100%;margin-bottom: 0;padding: 0.3em;box-sizing: border-box;text-align: center;}#sk-container-id-3 label.sk-toggleable__label-arrow:before {content: \"▸\";float: left;margin-right: 0.25em;color: #696969;}#sk-container-id-3 label.sk-toggleable__label-arrow:hover:before {color: black;}#sk-container-id-3 div.sk-estimator:hover label.sk-toggleable__label-arrow:before {color: black;}#sk-container-id-3 div.sk-toggleable__content {max-height: 0;max-width: 0;overflow: hidden;text-align: left;background-color: #f0f8ff;}#sk-container-id-3 div.sk-toggleable__content pre {margin: 0.2em;color: black;border-radius: 0.25em;background-color: #f0f8ff;}#sk-container-id-3 input.sk-toggleable__control:checked~div.sk-toggleable__content {max-height: 200px;max-width: 100%;overflow: auto;}#sk-container-id-3 input.sk-toggleable__control:checked~label.sk-toggleable__label-arrow:before {content: \"▾\";}#sk-container-id-3 div.sk-estimator input.sk-toggleable__control:checked~label.sk-toggleable__label {background-color: #d4ebff;}#sk-container-id-3 div.sk-label input.sk-toggleable__control:checked~label.sk-toggleable__label {background-color: #d4ebff;}#sk-container-id-3 input.sk-hidden--visually {border: 0;clip: rect(1px 1px 1px 1px);clip: rect(1px, 1px, 1px, 1px);height: 1px;margin: -1px;overflow: hidden;padding: 0;position: absolute;width: 1px;}#sk-container-id-3 div.sk-estimator {font-family: monospace;background-color: #f0f8ff;border: 1px dotted black;border-radius: 0.25em;box-sizing: border-box;margin-bottom: 0.5em;}#sk-container-id-3 div.sk-estimator:hover {background-color: #d4ebff;}#sk-container-id-3 div.sk-parallel-item::after {content: \"\";width: 100%;border-bottom: 1px solid gray;flex-grow: 1;}#sk-container-id-3 div.sk-label:hover label.sk-toggleable__label {background-color: #d4ebff;}#sk-container-id-3 div.sk-serial::before {content: \"\";position: absolute;border-left: 1px solid gray;box-sizing: border-box;top: 0;bottom: 0;left: 50%;z-index: 0;}#sk-container-id-3 div.sk-serial {display: flex;flex-direction: column;align-items: center;background-color: white;padding-right: 0.2em;padding-left: 0.2em;position: relative;}#sk-container-id-3 div.sk-item {position: relative;z-index: 1;}#sk-container-id-3 div.sk-parallel {display: flex;align-items: stretch;justify-content: center;background-color: white;position: relative;}#sk-container-id-3 div.sk-item::before, #sk-container-id-3 div.sk-parallel-item::before {content: \"\";position: absolute;border-left: 1px solid gray;box-sizing: border-box;top: 0;bottom: 0;left: 50%;z-index: -1;}#sk-container-id-3 div.sk-parallel-item {display: flex;flex-direction: column;z-index: 1;position: relative;background-color: white;}#sk-container-id-3 div.sk-parallel-item:first-child::after {align-self: flex-end;width: 50%;}#sk-container-id-3 div.sk-parallel-item:last-child::after {align-self: flex-start;width: 50%;}#sk-container-id-3 div.sk-parallel-item:only-child::after {width: 0;}#sk-container-id-3 div.sk-dashed-wrapped {border: 1px dashed gray;margin: 0 0.4em 0.5em 0.4em;box-sizing: border-box;padding-bottom: 0.4em;background-color: white;}#sk-container-id-3 div.sk-label label {font-family: monospace;font-weight: bold;display: inline-block;line-height: 1.2em;}#sk-container-id-3 div.sk-label-container {text-align: center;}#sk-container-id-3 div.sk-container {/* jupyter's `normalize.less` sets `[hidden] { display: none; }` but bootstrap.min.css set `[hidden] { display: none !important; }` so we also need the `!important` here to be able to override the default hidden behavior on the sphinx rendered scikit-learn.org. See: https://github.com/scikit-learn/scikit-learn/issues/21755 */display: inline-block !important;position: relative;}#sk-container-id-3 div.sk-text-repr-fallback {display: none;}</style><div id=\"sk-container-id-3\" class=\"sk-top-container\"><div class=\"sk-text-repr-fallback\"><pre>GaussianNB()</pre><b>In a Jupyter environment, please rerun this cell to show the HTML representation or trust the notebook. <br />On GitHub, the HTML representation is unable to render, please try loading this page with nbviewer.org.</b></div><div class=\"sk-container\" hidden><div class=\"sk-item\"><div class=\"sk-estimator sk-toggleable\"><input class=\"sk-toggleable__control sk-hidden--visually\" id=\"sk-estimator-id-3\" type=\"checkbox\" checked><label for=\"sk-estimator-id-3\" class=\"sk-toggleable__label sk-toggleable__label-arrow\">GaussianNB</label><div class=\"sk-toggleable__content\"><pre>GaussianNB()</pre></div></div></div></div></div>"
      ],
      "text/plain": [
       "GaussianNB()"
      ]
     },
     "execution_count": 82,
     "metadata": {},
     "output_type": "execute_result"
    }
   ],
   "source": [
    "gaussian_model = GaussianNB()\n",
    "gaussian_model.fit(Xtrain_final,y_train)"
   ]
  },
  {
   "cell_type": "code",
   "execution_count": 83,
   "id": "ceafe3d7",
   "metadata": {},
   "outputs": [],
   "source": [
    "# making prediction\n",
    "gaussian_probabilities = gaussian_model.predict_proba(Xeval_final)\n",
    "gaussian_preds = gaussian_model.predict(Xeval_final)"
   ]
  },
  {
   "cell_type": "markdown",
   "id": "f86fe24e",
   "metadata": {},
   "source": [
    "**Evaluation of the model performance**"
   ]
  },
  {
   "cell_type": "code",
   "execution_count": 84,
   "id": "994fcf4c",
   "metadata": {},
   "outputs": [],
   "source": [
    "# Calculate the ROC AUC score\n",
    "gaussian_auc_score = roc_auc_score(y_validation,gaussian_preds)\n",
    "\n",
    "# Calculate the log loss\n",
    "gaussian_logloss = log_loss(y_validation,gaussian_probabilities)"
   ]
  },
  {
   "cell_type": "code",
   "execution_count": 85,
   "id": "605bd369",
   "metadata": {},
   "outputs": [
    {
     "name": "stdout",
     "output_type": "stream",
     "text": [
      "The models AUC_score is:  0.7426123992569164\n",
      "The models probability is:  5.955073178781519\n"
     ]
    }
   ],
   "source": [
    "print('The models AUC_score is: ',gaussian_auc_score)\n",
    "print('The models probability is: ',gaussian_logloss)"
   ]
  },
  {
   "cell_type": "markdown",
   "id": "75923758",
   "metadata": {},
   "source": [
    "## Model 3: ComplementNB"
   ]
  },
  {
   "cell_type": "code",
   "execution_count": 86,
   "id": "105f1c4d",
   "metadata": {},
   "outputs": [
    {
     "data": {
      "text/html": [
       "<style>#sk-container-id-4 {color: black;}#sk-container-id-4 pre{padding: 0;}#sk-container-id-4 div.sk-toggleable {background-color: white;}#sk-container-id-4 label.sk-toggleable__label {cursor: pointer;display: block;width: 100%;margin-bottom: 0;padding: 0.3em;box-sizing: border-box;text-align: center;}#sk-container-id-4 label.sk-toggleable__label-arrow:before {content: \"▸\";float: left;margin-right: 0.25em;color: #696969;}#sk-container-id-4 label.sk-toggleable__label-arrow:hover:before {color: black;}#sk-container-id-4 div.sk-estimator:hover label.sk-toggleable__label-arrow:before {color: black;}#sk-container-id-4 div.sk-toggleable__content {max-height: 0;max-width: 0;overflow: hidden;text-align: left;background-color: #f0f8ff;}#sk-container-id-4 div.sk-toggleable__content pre {margin: 0.2em;color: black;border-radius: 0.25em;background-color: #f0f8ff;}#sk-container-id-4 input.sk-toggleable__control:checked~div.sk-toggleable__content {max-height: 200px;max-width: 100%;overflow: auto;}#sk-container-id-4 input.sk-toggleable__control:checked~label.sk-toggleable__label-arrow:before {content: \"▾\";}#sk-container-id-4 div.sk-estimator input.sk-toggleable__control:checked~label.sk-toggleable__label {background-color: #d4ebff;}#sk-container-id-4 div.sk-label input.sk-toggleable__control:checked~label.sk-toggleable__label {background-color: #d4ebff;}#sk-container-id-4 input.sk-hidden--visually {border: 0;clip: rect(1px 1px 1px 1px);clip: rect(1px, 1px, 1px, 1px);height: 1px;margin: -1px;overflow: hidden;padding: 0;position: absolute;width: 1px;}#sk-container-id-4 div.sk-estimator {font-family: monospace;background-color: #f0f8ff;border: 1px dotted black;border-radius: 0.25em;box-sizing: border-box;margin-bottom: 0.5em;}#sk-container-id-4 div.sk-estimator:hover {background-color: #d4ebff;}#sk-container-id-4 div.sk-parallel-item::after {content: \"\";width: 100%;border-bottom: 1px solid gray;flex-grow: 1;}#sk-container-id-4 div.sk-label:hover label.sk-toggleable__label {background-color: #d4ebff;}#sk-container-id-4 div.sk-serial::before {content: \"\";position: absolute;border-left: 1px solid gray;box-sizing: border-box;top: 0;bottom: 0;left: 50%;z-index: 0;}#sk-container-id-4 div.sk-serial {display: flex;flex-direction: column;align-items: center;background-color: white;padding-right: 0.2em;padding-left: 0.2em;position: relative;}#sk-container-id-4 div.sk-item {position: relative;z-index: 1;}#sk-container-id-4 div.sk-parallel {display: flex;align-items: stretch;justify-content: center;background-color: white;position: relative;}#sk-container-id-4 div.sk-item::before, #sk-container-id-4 div.sk-parallel-item::before {content: \"\";position: absolute;border-left: 1px solid gray;box-sizing: border-box;top: 0;bottom: 0;left: 50%;z-index: -1;}#sk-container-id-4 div.sk-parallel-item {display: flex;flex-direction: column;z-index: 1;position: relative;background-color: white;}#sk-container-id-4 div.sk-parallel-item:first-child::after {align-self: flex-end;width: 50%;}#sk-container-id-4 div.sk-parallel-item:last-child::after {align-self: flex-start;width: 50%;}#sk-container-id-4 div.sk-parallel-item:only-child::after {width: 0;}#sk-container-id-4 div.sk-dashed-wrapped {border: 1px dashed gray;margin: 0 0.4em 0.5em 0.4em;box-sizing: border-box;padding-bottom: 0.4em;background-color: white;}#sk-container-id-4 div.sk-label label {font-family: monospace;font-weight: bold;display: inline-block;line-height: 1.2em;}#sk-container-id-4 div.sk-label-container {text-align: center;}#sk-container-id-4 div.sk-container {/* jupyter's `normalize.less` sets `[hidden] { display: none; }` but bootstrap.min.css set `[hidden] { display: none !important; }` so we also need the `!important` here to be able to override the default hidden behavior on the sphinx rendered scikit-learn.org. See: https://github.com/scikit-learn/scikit-learn/issues/21755 */display: inline-block !important;position: relative;}#sk-container-id-4 div.sk-text-repr-fallback {display: none;}</style><div id=\"sk-container-id-4\" class=\"sk-top-container\"><div class=\"sk-text-repr-fallback\"><pre>ComplementNB()</pre><b>In a Jupyter environment, please rerun this cell to show the HTML representation or trust the notebook. <br />On GitHub, the HTML representation is unable to render, please try loading this page with nbviewer.org.</b></div><div class=\"sk-container\" hidden><div class=\"sk-item\"><div class=\"sk-estimator sk-toggleable\"><input class=\"sk-toggleable__control sk-hidden--visually\" id=\"sk-estimator-id-4\" type=\"checkbox\" checked><label for=\"sk-estimator-id-4\" class=\"sk-toggleable__label sk-toggleable__label-arrow\">ComplementNB</label><div class=\"sk-toggleable__content\"><pre>ComplementNB()</pre></div></div></div></div></div>"
      ],
      "text/plain": [
       "ComplementNB()"
      ]
     },
     "execution_count": 86,
     "metadata": {},
     "output_type": "execute_result"
    }
   ],
   "source": [
    "cnb_model = ComplementNB()\n",
    "cnb_model.fit(Xtrain_final,y_train)"
   ]
  },
  {
   "cell_type": "code",
   "execution_count": 87,
   "id": "8c7ab0a0",
   "metadata": {},
   "outputs": [],
   "source": [
    "# making prediction\n",
    "cnb_probabilities = cnb_model.predict_proba(Xeval_final)\n",
    "cnb_preds = cnb_model.predict(Xeval_final)"
   ]
  },
  {
   "cell_type": "markdown",
   "id": "34b64e44",
   "metadata": {},
   "source": [
    "**Evaluation of the model performance**"
   ]
  },
  {
   "cell_type": "code",
   "execution_count": 88,
   "id": "fe01d991",
   "metadata": {},
   "outputs": [],
   "source": [
    "#Evaluationg model performance\n",
    "# Calculate the ROC AUC score\n",
    "cnb_auc_score = roc_auc_score(y_validation,cnb_preds)\n",
    "\n",
    "# Calculate the log loss\n",
    "cnb_logloss = log_loss(y_validation,cnb_probabilities)"
   ]
  },
  {
   "cell_type": "code",
   "execution_count": 89,
   "id": "bbf8970c",
   "metadata": {},
   "outputs": [
    {
     "name": "stdout",
     "output_type": "stream",
     "text": [
      "The models AUC_score is:  0.7577022888658804\n",
      "The models probability is:  0.5188709884069475\n"
     ]
    }
   ],
   "source": [
    "print('The models AUC_score is: ',cnb_auc_score)\n",
    "print('The models probability is: ',cnb_logloss)"
   ]
  },
  {
   "cell_type": "markdown",
   "id": "6a31e62e",
   "metadata": {},
   "source": [
    "## Model 4: logistic regression"
   ]
  },
  {
   "cell_type": "code",
   "execution_count": 90,
   "id": "9da2774b",
   "metadata": {},
   "outputs": [
    {
     "data": {
      "text/html": [
       "<style>#sk-container-id-5 {color: black;}#sk-container-id-5 pre{padding: 0;}#sk-container-id-5 div.sk-toggleable {background-color: white;}#sk-container-id-5 label.sk-toggleable__label {cursor: pointer;display: block;width: 100%;margin-bottom: 0;padding: 0.3em;box-sizing: border-box;text-align: center;}#sk-container-id-5 label.sk-toggleable__label-arrow:before {content: \"▸\";float: left;margin-right: 0.25em;color: #696969;}#sk-container-id-5 label.sk-toggleable__label-arrow:hover:before {color: black;}#sk-container-id-5 div.sk-estimator:hover label.sk-toggleable__label-arrow:before {color: black;}#sk-container-id-5 div.sk-toggleable__content {max-height: 0;max-width: 0;overflow: hidden;text-align: left;background-color: #f0f8ff;}#sk-container-id-5 div.sk-toggleable__content pre {margin: 0.2em;color: black;border-radius: 0.25em;background-color: #f0f8ff;}#sk-container-id-5 input.sk-toggleable__control:checked~div.sk-toggleable__content {max-height: 200px;max-width: 100%;overflow: auto;}#sk-container-id-5 input.sk-toggleable__control:checked~label.sk-toggleable__label-arrow:before {content: \"▾\";}#sk-container-id-5 div.sk-estimator input.sk-toggleable__control:checked~label.sk-toggleable__label {background-color: #d4ebff;}#sk-container-id-5 div.sk-label input.sk-toggleable__control:checked~label.sk-toggleable__label {background-color: #d4ebff;}#sk-container-id-5 input.sk-hidden--visually {border: 0;clip: rect(1px 1px 1px 1px);clip: rect(1px, 1px, 1px, 1px);height: 1px;margin: -1px;overflow: hidden;padding: 0;position: absolute;width: 1px;}#sk-container-id-5 div.sk-estimator {font-family: monospace;background-color: #f0f8ff;border: 1px dotted black;border-radius: 0.25em;box-sizing: border-box;margin-bottom: 0.5em;}#sk-container-id-5 div.sk-estimator:hover {background-color: #d4ebff;}#sk-container-id-5 div.sk-parallel-item::after {content: \"\";width: 100%;border-bottom: 1px solid gray;flex-grow: 1;}#sk-container-id-5 div.sk-label:hover label.sk-toggleable__label {background-color: #d4ebff;}#sk-container-id-5 div.sk-serial::before {content: \"\";position: absolute;border-left: 1px solid gray;box-sizing: border-box;top: 0;bottom: 0;left: 50%;z-index: 0;}#sk-container-id-5 div.sk-serial {display: flex;flex-direction: column;align-items: center;background-color: white;padding-right: 0.2em;padding-left: 0.2em;position: relative;}#sk-container-id-5 div.sk-item {position: relative;z-index: 1;}#sk-container-id-5 div.sk-parallel {display: flex;align-items: stretch;justify-content: center;background-color: white;position: relative;}#sk-container-id-5 div.sk-item::before, #sk-container-id-5 div.sk-parallel-item::before {content: \"\";position: absolute;border-left: 1px solid gray;box-sizing: border-box;top: 0;bottom: 0;left: 50%;z-index: -1;}#sk-container-id-5 div.sk-parallel-item {display: flex;flex-direction: column;z-index: 1;position: relative;background-color: white;}#sk-container-id-5 div.sk-parallel-item:first-child::after {align-self: flex-end;width: 50%;}#sk-container-id-5 div.sk-parallel-item:last-child::after {align-self: flex-start;width: 50%;}#sk-container-id-5 div.sk-parallel-item:only-child::after {width: 0;}#sk-container-id-5 div.sk-dashed-wrapped {border: 1px dashed gray;margin: 0 0.4em 0.5em 0.4em;box-sizing: border-box;padding-bottom: 0.4em;background-color: white;}#sk-container-id-5 div.sk-label label {font-family: monospace;font-weight: bold;display: inline-block;line-height: 1.2em;}#sk-container-id-5 div.sk-label-container {text-align: center;}#sk-container-id-5 div.sk-container {/* jupyter's `normalize.less` sets `[hidden] { display: none; }` but bootstrap.min.css set `[hidden] { display: none !important; }` so we also need the `!important` here to be able to override the default hidden behavior on the sphinx rendered scikit-learn.org. See: https://github.com/scikit-learn/scikit-learn/issues/21755 */display: inline-block !important;position: relative;}#sk-container-id-5 div.sk-text-repr-fallback {display: none;}</style><div id=\"sk-container-id-5\" class=\"sk-top-container\"><div class=\"sk-text-repr-fallback\"><pre>LogisticRegression()</pre><b>In a Jupyter environment, please rerun this cell to show the HTML representation or trust the notebook. <br />On GitHub, the HTML representation is unable to render, please try loading this page with nbviewer.org.</b></div><div class=\"sk-container\" hidden><div class=\"sk-item\"><div class=\"sk-estimator sk-toggleable\"><input class=\"sk-toggleable__control sk-hidden--visually\" id=\"sk-estimator-id-5\" type=\"checkbox\" checked><label for=\"sk-estimator-id-5\" class=\"sk-toggleable__label sk-toggleable__label-arrow\">LogisticRegression</label><div class=\"sk-toggleable__content\"><pre>LogisticRegression()</pre></div></div></div></div></div>"
      ],
      "text/plain": [
       "LogisticRegression()"
      ]
     },
     "execution_count": 90,
     "metadata": {},
     "output_type": "execute_result"
    }
   ],
   "source": [
    "lr_model = LogisticRegression()\n",
    "lr_model.fit(Xtrain_final, y_train)"
   ]
  },
  {
   "cell_type": "code",
   "execution_count": 91,
   "id": "bfb3752b",
   "metadata": {},
   "outputs": [],
   "source": [
    "# making prediction\n",
    "lr_probabilities = lr_model.predict_proba(Xeval_final)\n",
    "lr_preds = lr_model.predict(Xeval_final)"
   ]
  },
  {
   "cell_type": "markdown",
   "id": "39e85f89",
   "metadata": {},
   "source": [
    "**Evaluation of the model performance**"
   ]
  },
  {
   "cell_type": "code",
   "execution_count": 92,
   "id": "a99efbbd",
   "metadata": {},
   "outputs": [],
   "source": [
    "#Evaluationg model performance\n",
    "# Calculate the ROC AUC score\n",
    "lr_auc_score = roc_auc_score(y_validation,lr_preds)\n",
    "\n",
    "# Calculate the log loss\n",
    "lr_logloss = log_loss(y_validation,lr_probabilities)"
   ]
  },
  {
   "cell_type": "code",
   "execution_count": 93,
   "id": "5c10441b",
   "metadata": {},
   "outputs": [
    {
     "name": "stdout",
     "output_type": "stream",
     "text": [
      "The models AUC_score is:  0.5033405524732764\n",
      "The models probability is:  0.16424240873048512\n"
     ]
    }
   ],
   "source": [
    "print('The models AUC_score is: ',lr_auc_score)\n",
    "print('The models probability is: ',lr_logloss)"
   ]
  },
  {
   "cell_type": "markdown",
   "id": "3d06aef4",
   "metadata": {},
   "source": [
    "## Model 5: ADA BOOST"
   ]
  },
  {
   "cell_type": "code",
   "execution_count": 94,
   "id": "7c7c77a0",
   "metadata": {},
   "outputs": [
    {
     "data": {
      "text/html": [
       "<style>#sk-container-id-6 {color: black;}#sk-container-id-6 pre{padding: 0;}#sk-container-id-6 div.sk-toggleable {background-color: white;}#sk-container-id-6 label.sk-toggleable__label {cursor: pointer;display: block;width: 100%;margin-bottom: 0;padding: 0.3em;box-sizing: border-box;text-align: center;}#sk-container-id-6 label.sk-toggleable__label-arrow:before {content: \"▸\";float: left;margin-right: 0.25em;color: #696969;}#sk-container-id-6 label.sk-toggleable__label-arrow:hover:before {color: black;}#sk-container-id-6 div.sk-estimator:hover label.sk-toggleable__label-arrow:before {color: black;}#sk-container-id-6 div.sk-toggleable__content {max-height: 0;max-width: 0;overflow: hidden;text-align: left;background-color: #f0f8ff;}#sk-container-id-6 div.sk-toggleable__content pre {margin: 0.2em;color: black;border-radius: 0.25em;background-color: #f0f8ff;}#sk-container-id-6 input.sk-toggleable__control:checked~div.sk-toggleable__content {max-height: 200px;max-width: 100%;overflow: auto;}#sk-container-id-6 input.sk-toggleable__control:checked~label.sk-toggleable__label-arrow:before {content: \"▾\";}#sk-container-id-6 div.sk-estimator input.sk-toggleable__control:checked~label.sk-toggleable__label {background-color: #d4ebff;}#sk-container-id-6 div.sk-label input.sk-toggleable__control:checked~label.sk-toggleable__label {background-color: #d4ebff;}#sk-container-id-6 input.sk-hidden--visually {border: 0;clip: rect(1px 1px 1px 1px);clip: rect(1px, 1px, 1px, 1px);height: 1px;margin: -1px;overflow: hidden;padding: 0;position: absolute;width: 1px;}#sk-container-id-6 div.sk-estimator {font-family: monospace;background-color: #f0f8ff;border: 1px dotted black;border-radius: 0.25em;box-sizing: border-box;margin-bottom: 0.5em;}#sk-container-id-6 div.sk-estimator:hover {background-color: #d4ebff;}#sk-container-id-6 div.sk-parallel-item::after {content: \"\";width: 100%;border-bottom: 1px solid gray;flex-grow: 1;}#sk-container-id-6 div.sk-label:hover label.sk-toggleable__label {background-color: #d4ebff;}#sk-container-id-6 div.sk-serial::before {content: \"\";position: absolute;border-left: 1px solid gray;box-sizing: border-box;top: 0;bottom: 0;left: 50%;z-index: 0;}#sk-container-id-6 div.sk-serial {display: flex;flex-direction: column;align-items: center;background-color: white;padding-right: 0.2em;padding-left: 0.2em;position: relative;}#sk-container-id-6 div.sk-item {position: relative;z-index: 1;}#sk-container-id-6 div.sk-parallel {display: flex;align-items: stretch;justify-content: center;background-color: white;position: relative;}#sk-container-id-6 div.sk-item::before, #sk-container-id-6 div.sk-parallel-item::before {content: \"\";position: absolute;border-left: 1px solid gray;box-sizing: border-box;top: 0;bottom: 0;left: 50%;z-index: -1;}#sk-container-id-6 div.sk-parallel-item {display: flex;flex-direction: column;z-index: 1;position: relative;background-color: white;}#sk-container-id-6 div.sk-parallel-item:first-child::after {align-self: flex-end;width: 50%;}#sk-container-id-6 div.sk-parallel-item:last-child::after {align-self: flex-start;width: 50%;}#sk-container-id-6 div.sk-parallel-item:only-child::after {width: 0;}#sk-container-id-6 div.sk-dashed-wrapped {border: 1px dashed gray;margin: 0 0.4em 0.5em 0.4em;box-sizing: border-box;padding-bottom: 0.4em;background-color: white;}#sk-container-id-6 div.sk-label label {font-family: monospace;font-weight: bold;display: inline-block;line-height: 1.2em;}#sk-container-id-6 div.sk-label-container {text-align: center;}#sk-container-id-6 div.sk-container {/* jupyter's `normalize.less` sets `[hidden] { display: none; }` but bootstrap.min.css set `[hidden] { display: none !important; }` so we also need the `!important` here to be able to override the default hidden behavior on the sphinx rendered scikit-learn.org. See: https://github.com/scikit-learn/scikit-learn/issues/21755 */display: inline-block !important;position: relative;}#sk-container-id-6 div.sk-text-repr-fallback {display: none;}</style><div id=\"sk-container-id-6\" class=\"sk-top-container\"><div class=\"sk-text-repr-fallback\"><pre>AdaBoostClassifier()</pre><b>In a Jupyter environment, please rerun this cell to show the HTML representation or trust the notebook. <br />On GitHub, the HTML representation is unable to render, please try loading this page with nbviewer.org.</b></div><div class=\"sk-container\" hidden><div class=\"sk-item\"><div class=\"sk-estimator sk-toggleable\"><input class=\"sk-toggleable__control sk-hidden--visually\" id=\"sk-estimator-id-6\" type=\"checkbox\" checked><label for=\"sk-estimator-id-6\" class=\"sk-toggleable__label sk-toggleable__label-arrow\">AdaBoostClassifier</label><div class=\"sk-toggleable__content\"><pre>AdaBoostClassifier()</pre></div></div></div></div></div>"
      ],
      "text/plain": [
       "AdaBoostClassifier()"
      ]
     },
     "execution_count": 94,
     "metadata": {},
     "output_type": "execute_result"
    }
   ],
   "source": [
    "Ada_model = AdaBoostClassifier()\n",
    "Ada_model.fit(Xtrain_final,y_train)"
   ]
  },
  {
   "cell_type": "code",
   "execution_count": 95,
   "id": "6be8739e",
   "metadata": {},
   "outputs": [],
   "source": [
    "# making prediction\n",
    "ada_probabilities = Ada_model.predict_proba(Xeval_final)\n",
    "ada_preds = Ada_model.predict(Xeval_final)"
   ]
  },
  {
   "cell_type": "markdown",
   "id": "9bf5cd69",
   "metadata": {},
   "source": [
    "**Evaluation of the model performance**"
   ]
  },
  {
   "cell_type": "code",
   "execution_count": 96,
   "id": "5d7ad95d",
   "metadata": {},
   "outputs": [],
   "source": [
    "#Evaluationg model performance\n",
    "# Calculate the ROC AUC score\n",
    "ada_auc_score = roc_auc_score(y_validation,ada_preds)\n",
    "\n",
    "# Calculate the log loss\n",
    "ada_logloss = log_loss(y_validation,ada_probabilities)"
   ]
  },
  {
   "cell_type": "code",
   "execution_count": 97,
   "id": "7d8f9e2b",
   "metadata": {},
   "outputs": [
    {
     "name": "stdout",
     "output_type": "stream",
     "text": [
      "The models AUC_score is:  0.5703216933460088\n",
      "The models probability is:  0.6521593388615018\n"
     ]
    }
   ],
   "source": [
    "print('The models AUC_score is: ',ada_auc_score)\n",
    "print('The models probability is: ',ada_logloss)"
   ]
  },
  {
   "cell_type": "markdown",
   "id": "898eed55",
   "metadata": {},
   "source": [
    "## Model 6: SVM"
   ]
  },
  {
   "cell_type": "code",
   "execution_count": 98,
   "id": "e22ca481",
   "metadata": {},
   "outputs": [
    {
     "data": {
      "text/html": [
       "<style>#sk-container-id-7 {color: black;}#sk-container-id-7 pre{padding: 0;}#sk-container-id-7 div.sk-toggleable {background-color: white;}#sk-container-id-7 label.sk-toggleable__label {cursor: pointer;display: block;width: 100%;margin-bottom: 0;padding: 0.3em;box-sizing: border-box;text-align: center;}#sk-container-id-7 label.sk-toggleable__label-arrow:before {content: \"▸\";float: left;margin-right: 0.25em;color: #696969;}#sk-container-id-7 label.sk-toggleable__label-arrow:hover:before {color: black;}#sk-container-id-7 div.sk-estimator:hover label.sk-toggleable__label-arrow:before {color: black;}#sk-container-id-7 div.sk-toggleable__content {max-height: 0;max-width: 0;overflow: hidden;text-align: left;background-color: #f0f8ff;}#sk-container-id-7 div.sk-toggleable__content pre {margin: 0.2em;color: black;border-radius: 0.25em;background-color: #f0f8ff;}#sk-container-id-7 input.sk-toggleable__control:checked~div.sk-toggleable__content {max-height: 200px;max-width: 100%;overflow: auto;}#sk-container-id-7 input.sk-toggleable__control:checked~label.sk-toggleable__label-arrow:before {content: \"▾\";}#sk-container-id-7 div.sk-estimator input.sk-toggleable__control:checked~label.sk-toggleable__label {background-color: #d4ebff;}#sk-container-id-7 div.sk-label input.sk-toggleable__control:checked~label.sk-toggleable__label {background-color: #d4ebff;}#sk-container-id-7 input.sk-hidden--visually {border: 0;clip: rect(1px 1px 1px 1px);clip: rect(1px, 1px, 1px, 1px);height: 1px;margin: -1px;overflow: hidden;padding: 0;position: absolute;width: 1px;}#sk-container-id-7 div.sk-estimator {font-family: monospace;background-color: #f0f8ff;border: 1px dotted black;border-radius: 0.25em;box-sizing: border-box;margin-bottom: 0.5em;}#sk-container-id-7 div.sk-estimator:hover {background-color: #d4ebff;}#sk-container-id-7 div.sk-parallel-item::after {content: \"\";width: 100%;border-bottom: 1px solid gray;flex-grow: 1;}#sk-container-id-7 div.sk-label:hover label.sk-toggleable__label {background-color: #d4ebff;}#sk-container-id-7 div.sk-serial::before {content: \"\";position: absolute;border-left: 1px solid gray;box-sizing: border-box;top: 0;bottom: 0;left: 50%;z-index: 0;}#sk-container-id-7 div.sk-serial {display: flex;flex-direction: column;align-items: center;background-color: white;padding-right: 0.2em;padding-left: 0.2em;position: relative;}#sk-container-id-7 div.sk-item {position: relative;z-index: 1;}#sk-container-id-7 div.sk-parallel {display: flex;align-items: stretch;justify-content: center;background-color: white;position: relative;}#sk-container-id-7 div.sk-item::before, #sk-container-id-7 div.sk-parallel-item::before {content: \"\";position: absolute;border-left: 1px solid gray;box-sizing: border-box;top: 0;bottom: 0;left: 50%;z-index: -1;}#sk-container-id-7 div.sk-parallel-item {display: flex;flex-direction: column;z-index: 1;position: relative;background-color: white;}#sk-container-id-7 div.sk-parallel-item:first-child::after {align-self: flex-end;width: 50%;}#sk-container-id-7 div.sk-parallel-item:last-child::after {align-self: flex-start;width: 50%;}#sk-container-id-7 div.sk-parallel-item:only-child::after {width: 0;}#sk-container-id-7 div.sk-dashed-wrapped {border: 1px dashed gray;margin: 0 0.4em 0.5em 0.4em;box-sizing: border-box;padding-bottom: 0.4em;background-color: white;}#sk-container-id-7 div.sk-label label {font-family: monospace;font-weight: bold;display: inline-block;line-height: 1.2em;}#sk-container-id-7 div.sk-label-container {text-align: center;}#sk-container-id-7 div.sk-container {/* jupyter's `normalize.less` sets `[hidden] { display: none; }` but bootstrap.min.css set `[hidden] { display: none !important; }` so we also need the `!important` here to be able to override the default hidden behavior on the sphinx rendered scikit-learn.org. See: https://github.com/scikit-learn/scikit-learn/issues/21755 */display: inline-block !important;position: relative;}#sk-container-id-7 div.sk-text-repr-fallback {display: none;}</style><div id=\"sk-container-id-7\" class=\"sk-top-container\"><div class=\"sk-text-repr-fallback\"><pre>SVC(kernel=&#x27;linear&#x27;)</pre><b>In a Jupyter environment, please rerun this cell to show the HTML representation or trust the notebook. <br />On GitHub, the HTML representation is unable to render, please try loading this page with nbviewer.org.</b></div><div class=\"sk-container\" hidden><div class=\"sk-item\"><div class=\"sk-estimator sk-toggleable\"><input class=\"sk-toggleable__control sk-hidden--visually\" id=\"sk-estimator-id-7\" type=\"checkbox\" checked><label for=\"sk-estimator-id-7\" class=\"sk-toggleable__label sk-toggleable__label-arrow\">SVC</label><div class=\"sk-toggleable__content\"><pre>SVC(kernel=&#x27;linear&#x27;)</pre></div></div></div></div></div>"
      ],
      "text/plain": [
       "SVC(kernel='linear')"
      ]
     },
     "execution_count": 98,
     "metadata": {},
     "output_type": "execute_result"
    }
   ],
   "source": [
    "Svm_model= SVC(kernel='linear') \n",
    "Svm_model.fit(Xtrain_final,y_train)"
   ]
  },
  {
   "cell_type": "code",
   "execution_count": 99,
   "id": "3f8a1a3d",
   "metadata": {},
   "outputs": [],
   "source": [
    "# making prediction\n",
    "#svm_probabilities = Svm_model.predict_proba(Xeval_final)\n",
    "svm_preds = Svm_model.predict(Xeval_final)"
   ]
  },
  {
   "cell_type": "markdown",
   "id": "c5751d3e",
   "metadata": {},
   "source": [
    "**Evaluation of the model performance**"
   ]
  },
  {
   "cell_type": "code",
   "execution_count": 100,
   "id": "2d3b1e3f",
   "metadata": {},
   "outputs": [],
   "source": [
    "#Evaluationg model performance\n",
    "# Calculate the ROC AUC score\n",
    "svm_auc_score = roc_auc_score(y_validation,svm_preds)\n",
    "\n",
    "# Calculate the log loss\n",
    "#svm_logloss = log_loss(y_validation,svm_probabilities)"
   ]
  },
  {
   "cell_type": "code",
   "execution_count": 101,
   "id": "3f05512c",
   "metadata": {},
   "outputs": [
    {
     "name": "stdout",
     "output_type": "stream",
     "text": [
      "The models AUC_score is:  0.5\n"
     ]
    }
   ],
   "source": [
    "print('The models AUC_score is: ',svm_auc_score)\n",
    "#print('The models probability is: ',svm_logloss)"
   ]
  },
  {
   "cell_type": "markdown",
   "id": "6e79dae7",
   "metadata": {},
   "source": [
    "## Comparison"
   ]
  },
  {
   "cell_type": "code",
   "execution_count": 102,
   "id": "b760ab6c",
   "metadata": {},
   "outputs": [],
   "source": [
    "results_table= {'models':['Random Forest','GaussianNB','AdaBoost','ComplementNB','Logistic Regression', 'SVM'],\n",
    "         'AUC_score':[rf_auc_score,gaussian_auc_score,ada_auc_score,cnb_auc_score,lr_auc_score,svm_auc_score],\n",
    "         'log_loss':[rf_logloss,gaussian_logloss,ada_logloss,cnb_logloss,lr_logloss, 'N/A']}\n",
    "results_table= pd.DataFrame(results_table)"
   ]
  },
  {
   "cell_type": "code",
   "execution_count": 103,
   "id": "3e2d90b2",
   "metadata": {},
   "outputs": [
    {
     "data": {
      "text/html": [
       "<div>\n",
       "<style scoped>\n",
       "    .dataframe tbody tr th:only-of-type {\n",
       "        vertical-align: middle;\n",
       "    }\n",
       "\n",
       "    .dataframe tbody tr th {\n",
       "        vertical-align: top;\n",
       "    }\n",
       "\n",
       "    .dataframe thead th {\n",
       "        text-align: right;\n",
       "    }\n",
       "</style>\n",
       "<table border=\"1\" class=\"dataframe\">\n",
       "  <thead>\n",
       "    <tr style=\"text-align: right;\">\n",
       "      <th></th>\n",
       "      <th>models</th>\n",
       "      <th>AUC_score</th>\n",
       "      <th>log_loss</th>\n",
       "    </tr>\n",
       "  </thead>\n",
       "  <tbody>\n",
       "    <tr>\n",
       "      <th>3</th>\n",
       "      <td>ComplementNB</td>\n",
       "      <td>0.757702</td>\n",
       "      <td>0.518871</td>\n",
       "    </tr>\n",
       "    <tr>\n",
       "      <th>1</th>\n",
       "      <td>GaussianNB</td>\n",
       "      <td>0.742612</td>\n",
       "      <td>5.955073</td>\n",
       "    </tr>\n",
       "    <tr>\n",
       "      <th>0</th>\n",
       "      <td>Random Forest</td>\n",
       "      <td>0.576603</td>\n",
       "      <td>0.254109</td>\n",
       "    </tr>\n",
       "    <tr>\n",
       "      <th>2</th>\n",
       "      <td>AdaBoost</td>\n",
       "      <td>0.570322</td>\n",
       "      <td>0.652159</td>\n",
       "    </tr>\n",
       "    <tr>\n",
       "      <th>4</th>\n",
       "      <td>Logistic Regression</td>\n",
       "      <td>0.503341</td>\n",
       "      <td>0.164242</td>\n",
       "    </tr>\n",
       "    <tr>\n",
       "      <th>5</th>\n",
       "      <td>SVM</td>\n",
       "      <td>0.500000</td>\n",
       "      <td>N/A</td>\n",
       "    </tr>\n",
       "  </tbody>\n",
       "</table>\n",
       "</div>"
      ],
      "text/plain": [
       "                models  AUC_score  log_loss\n",
       "3         ComplementNB   0.757702  0.518871\n",
       "1           GaussianNB   0.742612  5.955073\n",
       "0        Random Forest   0.576603  0.254109\n",
       "2             AdaBoost   0.570322  0.652159\n",
       "4  Logistic Regression   0.503341  0.164242\n",
       "5                  SVM   0.500000       N/A"
      ]
     },
     "execution_count": 103,
     "metadata": {},
     "output_type": "execute_result"
    }
   ],
   "source": [
    "results_table.sort_values(by= 'AUC_score', ascending = False)"
   ]
  },
  {
   "cell_type": "markdown",
   "id": "390d3a6e",
   "metadata": {},
   "source": [
    "**Based on the results presented in the above table, we can conclude that Complement naive bayes is the best model among the six trained models. We however like to improve that particular model by balancing the dataset**"
   ]
  },
  {
   "cell_type": "markdown",
   "id": "168901e2",
   "metadata": {},
   "source": [
    "## Hyper-parameter tuning of the ComplementNB"
   ]
  },
  {
   "cell_type": "code",
   "execution_count": 104,
   "id": "ba5fa020",
   "metadata": {},
   "outputs": [
    {
     "data": {
      "text/html": [
       "<div>\n",
       "<style scoped>\n",
       "    .dataframe tbody tr th:only-of-type {\n",
       "        vertical-align: middle;\n",
       "    }\n",
       "\n",
       "    .dataframe tbody tr th {\n",
       "        vertical-align: top;\n",
       "    }\n",
       "\n",
       "    .dataframe thead th {\n",
       "        text-align: right;\n",
       "    }\n",
       "</style>\n",
       "<table border=\"1\" class=\"dataframe\">\n",
       "  <thead>\n",
       "    <tr style=\"text-align: right;\">\n",
       "      <th></th>\n",
       "      <th>REGION</th>\n",
       "      <th>TENURE</th>\n",
       "      <th>MONTANT</th>\n",
       "      <th>FREQUENCE_RECH</th>\n",
       "      <th>REVENUE</th>\n",
       "      <th>ARPU_SEGMENT</th>\n",
       "      <th>FREQUENCE</th>\n",
       "      <th>DATA_VOLUME</th>\n",
       "      <th>ON_NET</th>\n",
       "      <th>ORANGE</th>\n",
       "      <th>TIGO</th>\n",
       "      <th>ZONE1</th>\n",
       "      <th>ZONE2</th>\n",
       "      <th>REGULARITY</th>\n",
       "      <th>TOP_PACK</th>\n",
       "      <th>FREQ_TOP_PACK</th>\n",
       "      <th>CHURN</th>\n",
       "    </tr>\n",
       "  </thead>\n",
       "  <tbody>\n",
       "    <tr>\n",
       "      <th>0</th>\n",
       "      <td>DAKAR</td>\n",
       "      <td>Long-term</td>\n",
       "      <td>20000.000000</td>\n",
       "      <td>47.000000</td>\n",
       "      <td>21602.000000</td>\n",
       "      <td>7201.000000</td>\n",
       "      <td>52.000000</td>\n",
       "      <td>8835.000000</td>\n",
       "      <td>3391.000000</td>\n",
       "      <td>396.000000</td>\n",
       "      <td>185.000000</td>\n",
       "      <td>8.167483</td>\n",
       "      <td>7.709844</td>\n",
       "      <td>62</td>\n",
       "      <td>voice</td>\n",
       "      <td>30.000000</td>\n",
       "      <td>0</td>\n",
       "    </tr>\n",
       "    <tr>\n",
       "      <th>1</th>\n",
       "      <td>DAKAR</td>\n",
       "      <td>Long-term</td>\n",
       "      <td>5529.210895</td>\n",
       "      <td>11.523756</td>\n",
       "      <td>5506.050798</td>\n",
       "      <td>1835.355961</td>\n",
       "      <td>13.974439</td>\n",
       "      <td>3368.801722</td>\n",
       "      <td>277.065798</td>\n",
       "      <td>95.160804</td>\n",
       "      <td>23.105018</td>\n",
       "      <td>8.167483</td>\n",
       "      <td>7.709844</td>\n",
       "      <td>3</td>\n",
       "      <td>voice</td>\n",
       "      <td>9.262446</td>\n",
       "      <td>0</td>\n",
       "    </tr>\n",
       "    <tr>\n",
       "      <th>2</th>\n",
       "      <td>DAKAR</td>\n",
       "      <td>Long-term</td>\n",
       "      <td>5529.210895</td>\n",
       "      <td>11.523756</td>\n",
       "      <td>5506.050798</td>\n",
       "      <td>1835.355961</td>\n",
       "      <td>13.974439</td>\n",
       "      <td>3368.801722</td>\n",
       "      <td>277.065798</td>\n",
       "      <td>95.160804</td>\n",
       "      <td>23.105018</td>\n",
       "      <td>8.167483</td>\n",
       "      <td>7.709844</td>\n",
       "      <td>1</td>\n",
       "      <td>voice</td>\n",
       "      <td>9.262446</td>\n",
       "      <td>0</td>\n",
       "    </tr>\n",
       "    <tr>\n",
       "      <th>3</th>\n",
       "      <td>SAINT-LOUIS</td>\n",
       "      <td>Long-term</td>\n",
       "      <td>7900.000000</td>\n",
       "      <td>19.000000</td>\n",
       "      <td>7896.000000</td>\n",
       "      <td>2632.000000</td>\n",
       "      <td>25.000000</td>\n",
       "      <td>9385.000000</td>\n",
       "      <td>27.000000</td>\n",
       "      <td>46.000000</td>\n",
       "      <td>20.000000</td>\n",
       "      <td>8.167483</td>\n",
       "      <td>2.000000</td>\n",
       "      <td>61</td>\n",
       "      <td>data</td>\n",
       "      <td>7.000000</td>\n",
       "      <td>0</td>\n",
       "    </tr>\n",
       "    <tr>\n",
       "      <th>4</th>\n",
       "      <td>DAKAR</td>\n",
       "      <td>Long-term</td>\n",
       "      <td>12350.000000</td>\n",
       "      <td>21.000000</td>\n",
       "      <td>12351.000000</td>\n",
       "      <td>4117.000000</td>\n",
       "      <td>29.000000</td>\n",
       "      <td>9360.000000</td>\n",
       "      <td>66.000000</td>\n",
       "      <td>102.000000</td>\n",
       "      <td>34.000000</td>\n",
       "      <td>8.167483</td>\n",
       "      <td>7.709844</td>\n",
       "      <td>56</td>\n",
       "      <td>voice</td>\n",
       "      <td>11.000000</td>\n",
       "      <td>0</td>\n",
       "    </tr>\n",
       "  </tbody>\n",
       "</table>\n",
       "</div>"
      ],
      "text/plain": [
       "        REGION     TENURE       MONTANT  FREQUENCE_RECH       REVENUE  \\\n",
       "0        DAKAR  Long-term  20000.000000       47.000000  21602.000000   \n",
       "1        DAKAR  Long-term   5529.210895       11.523756   5506.050798   \n",
       "2        DAKAR  Long-term   5529.210895       11.523756   5506.050798   \n",
       "3  SAINT-LOUIS  Long-term   7900.000000       19.000000   7896.000000   \n",
       "4        DAKAR  Long-term  12350.000000       21.000000  12351.000000   \n",
       "\n",
       "   ARPU_SEGMENT  FREQUENCE  DATA_VOLUME       ON_NET      ORANGE        TIGO  \\\n",
       "0   7201.000000  52.000000  8835.000000  3391.000000  396.000000  185.000000   \n",
       "1   1835.355961  13.974439  3368.801722   277.065798   95.160804   23.105018   \n",
       "2   1835.355961  13.974439  3368.801722   277.065798   95.160804   23.105018   \n",
       "3   2632.000000  25.000000  9385.000000    27.000000   46.000000   20.000000   \n",
       "4   4117.000000  29.000000  9360.000000    66.000000  102.000000   34.000000   \n",
       "\n",
       "      ZONE1     ZONE2  REGULARITY TOP_PACK  FREQ_TOP_PACK  CHURN  \n",
       "0  8.167483  7.709844          62    voice      30.000000      0  \n",
       "1  8.167483  7.709844           3    voice       9.262446      0  \n",
       "2  8.167483  7.709844           1    voice       9.262446      0  \n",
       "3  8.167483  2.000000          61     data       7.000000      0  \n",
       "4  8.167483  7.709844          56    voice      11.000000      0  "
      ]
     },
     "execution_count": 104,
     "metadata": {},
     "output_type": "execute_result"
    }
   ],
   "source": [
    "train_final.head()"
   ]
  },
  {
   "cell_type": "code",
   "execution_count": 105,
   "id": "738860a2",
   "metadata": {},
   "outputs": [],
   "source": [
    "# Instantiate SMOTE object\n",
    "smote = SMOTE(random_state=42)\n",
    "\n",
    "# Apply SMOTE to the training data\n",
    "X_train_smote, y_train_smote = smote.fit_resample(Xtrain_final, y_train)"
   ]
  },
  {
   "cell_type": "code",
   "execution_count": 106,
   "id": "26adf210",
   "metadata": {},
   "outputs": [
    {
     "name": "stdout",
     "output_type": "stream",
     "text": [
      "Class distribution after applying SMOTE:\n",
      "CHURN\n",
      "0        571226\n",
      "1        571226\n",
      "dtype: int64\n"
     ]
    }
   ],
   "source": [
    "print(\"Class distribution after applying SMOTE:\")\n",
    "print(y_train_smote.value_counts())"
   ]
  },
  {
   "cell_type": "code",
   "execution_count": 107,
   "id": "236a43a9",
   "metadata": {},
   "outputs": [
    {
     "data": {
      "text/plain": [
       "MONTANT                    0\n",
       "FREQUENCE_RECH             0\n",
       "REVENUE                    0\n",
       "ARPU_SEGMENT               0\n",
       "FREQUENCE                  0\n",
       "DATA_VOLUME                0\n",
       "ON_NET                     0\n",
       "ORANGE                     0\n",
       "TIGO                       0\n",
       "ZONE1                      0\n",
       "ZONE2                      0\n",
       "REGULARITY                 0\n",
       "FREQ_TOP_PACK              0\n",
       "REGION_DAKAR               0\n",
       "REGION_DIOURBEL            0\n",
       "REGION_FATICK              0\n",
       "REGION_KAFFRINE            0\n",
       "REGION_KAOLACK             0\n",
       "REGION_KEDOUGOU            0\n",
       "REGION_KOLDA               0\n",
       "REGION_LOUGA               0\n",
       "REGION_MATAM               0\n",
       "REGION_SAINT-LOUIS         0\n",
       "REGION_SEDHIOU             0\n",
       "REGION_TAMBACOUNDA         0\n",
       "REGION_THIES               0\n",
       "REGION_ZIGUINCHOR          0\n",
       "TENURE_Long-term           0\n",
       "TENURE_Medium-term         0\n",
       "TENURE_Mid-term            0\n",
       "TENURE_Short-term          0\n",
       "TENURE_Very short-term     0\n",
       "TOP_PACK_VAS               0\n",
       "TOP_PACK_data              0\n",
       "TOP_PACK_international     0\n",
       "TOP_PACK_messaging         0\n",
       "TOP_PACK_other_services    0\n",
       "TOP_PACK_social_media      0\n",
       "TOP_PACK_voice             0\n",
       "dtype: int64"
      ]
     },
     "execution_count": 107,
     "metadata": {},
     "output_type": "execute_result"
    }
   ],
   "source": [
    "Xtrain_final.isnull().sum()"
   ]
  },
  {
   "cell_type": "markdown",
   "id": "6501ead9",
   "metadata": {},
   "source": [
    "## Model 1: Logistic Regression"
   ]
  },
  {
   "cell_type": "code",
   "execution_count": 108,
   "id": "838bed5c",
   "metadata": {},
   "outputs": [
    {
     "data": {
      "text/html": [
       "<style>#sk-container-id-8 {color: black;}#sk-container-id-8 pre{padding: 0;}#sk-container-id-8 div.sk-toggleable {background-color: white;}#sk-container-id-8 label.sk-toggleable__label {cursor: pointer;display: block;width: 100%;margin-bottom: 0;padding: 0.3em;box-sizing: border-box;text-align: center;}#sk-container-id-8 label.sk-toggleable__label-arrow:before {content: \"▸\";float: left;margin-right: 0.25em;color: #696969;}#sk-container-id-8 label.sk-toggleable__label-arrow:hover:before {color: black;}#sk-container-id-8 div.sk-estimator:hover label.sk-toggleable__label-arrow:before {color: black;}#sk-container-id-8 div.sk-toggleable__content {max-height: 0;max-width: 0;overflow: hidden;text-align: left;background-color: #f0f8ff;}#sk-container-id-8 div.sk-toggleable__content pre {margin: 0.2em;color: black;border-radius: 0.25em;background-color: #f0f8ff;}#sk-container-id-8 input.sk-toggleable__control:checked~div.sk-toggleable__content {max-height: 200px;max-width: 100%;overflow: auto;}#sk-container-id-8 input.sk-toggleable__control:checked~label.sk-toggleable__label-arrow:before {content: \"▾\";}#sk-container-id-8 div.sk-estimator input.sk-toggleable__control:checked~label.sk-toggleable__label {background-color: #d4ebff;}#sk-container-id-8 div.sk-label input.sk-toggleable__control:checked~label.sk-toggleable__label {background-color: #d4ebff;}#sk-container-id-8 input.sk-hidden--visually {border: 0;clip: rect(1px 1px 1px 1px);clip: rect(1px, 1px, 1px, 1px);height: 1px;margin: -1px;overflow: hidden;padding: 0;position: absolute;width: 1px;}#sk-container-id-8 div.sk-estimator {font-family: monospace;background-color: #f0f8ff;border: 1px dotted black;border-radius: 0.25em;box-sizing: border-box;margin-bottom: 0.5em;}#sk-container-id-8 div.sk-estimator:hover {background-color: #d4ebff;}#sk-container-id-8 div.sk-parallel-item::after {content: \"\";width: 100%;border-bottom: 1px solid gray;flex-grow: 1;}#sk-container-id-8 div.sk-label:hover label.sk-toggleable__label {background-color: #d4ebff;}#sk-container-id-8 div.sk-serial::before {content: \"\";position: absolute;border-left: 1px solid gray;box-sizing: border-box;top: 0;bottom: 0;left: 50%;z-index: 0;}#sk-container-id-8 div.sk-serial {display: flex;flex-direction: column;align-items: center;background-color: white;padding-right: 0.2em;padding-left: 0.2em;position: relative;}#sk-container-id-8 div.sk-item {position: relative;z-index: 1;}#sk-container-id-8 div.sk-parallel {display: flex;align-items: stretch;justify-content: center;background-color: white;position: relative;}#sk-container-id-8 div.sk-item::before, #sk-container-id-8 div.sk-parallel-item::before {content: \"\";position: absolute;border-left: 1px solid gray;box-sizing: border-box;top: 0;bottom: 0;left: 50%;z-index: -1;}#sk-container-id-8 div.sk-parallel-item {display: flex;flex-direction: column;z-index: 1;position: relative;background-color: white;}#sk-container-id-8 div.sk-parallel-item:first-child::after {align-self: flex-end;width: 50%;}#sk-container-id-8 div.sk-parallel-item:last-child::after {align-self: flex-start;width: 50%;}#sk-container-id-8 div.sk-parallel-item:only-child::after {width: 0;}#sk-container-id-8 div.sk-dashed-wrapped {border: 1px dashed gray;margin: 0 0.4em 0.5em 0.4em;box-sizing: border-box;padding-bottom: 0.4em;background-color: white;}#sk-container-id-8 div.sk-label label {font-family: monospace;font-weight: bold;display: inline-block;line-height: 1.2em;}#sk-container-id-8 div.sk-label-container {text-align: center;}#sk-container-id-8 div.sk-container {/* jupyter's `normalize.less` sets `[hidden] { display: none; }` but bootstrap.min.css set `[hidden] { display: none !important; }` so we also need the `!important` here to be able to override the default hidden behavior on the sphinx rendered scikit-learn.org. See: https://github.com/scikit-learn/scikit-learn/issues/21755 */display: inline-block !important;position: relative;}#sk-container-id-8 div.sk-text-repr-fallback {display: none;}</style><div id=\"sk-container-id-8\" class=\"sk-top-container\"><div class=\"sk-text-repr-fallback\"><pre>LogisticRegression()</pre><b>In a Jupyter environment, please rerun this cell to show the HTML representation or trust the notebook. <br />On GitHub, the HTML representation is unable to render, please try loading this page with nbviewer.org.</b></div><div class=\"sk-container\" hidden><div class=\"sk-item\"><div class=\"sk-estimator sk-toggleable\"><input class=\"sk-toggleable__control sk-hidden--visually\" id=\"sk-estimator-id-8\" type=\"checkbox\" checked><label for=\"sk-estimator-id-8\" class=\"sk-toggleable__label sk-toggleable__label-arrow\">LogisticRegression</label><div class=\"sk-toggleable__content\"><pre>LogisticRegression()</pre></div></div></div></div></div>"
      ],
      "text/plain": [
       "LogisticRegression()"
      ]
     },
     "execution_count": 108,
     "metadata": {},
     "output_type": "execute_result"
    }
   ],
   "source": [
    "#fitting logistic regression model with balanced data.\n",
    "lr_smote_model = LogisticRegression()\n",
    "lr_smote_model.fit(X_train_smote,y_train_smote)"
   ]
  },
  {
   "cell_type": "markdown",
   "id": "1963ca7e",
   "metadata": {},
   "source": [
    "**Make predictions**"
   ]
  },
  {
   "cell_type": "code",
   "execution_count": 109,
   "id": "47f2f339",
   "metadata": {},
   "outputs": [],
   "source": [
    "lr_smote_proba = lr_smote_model.predict_proba(Xeval_final)\n",
    "lr_smote_preds = lr_smote_model.predict(Xeval_final)"
   ]
  },
  {
   "cell_type": "code",
   "execution_count": 110,
   "id": "a377b3ba",
   "metadata": {},
   "outputs": [],
   "source": [
    "# Calculate the ROC AUC score\n",
    "lr_smote_auc_score = roc_auc_score(y_validation, lr_smote_preds)\n",
    "\n",
    "# Calculate the log loss\n",
    "lr_smote_logloss = log_loss(y_validation, lr_smote_proba)"
   ]
  },
  {
   "cell_type": "markdown",
   "id": "bb43d7c0",
   "metadata": {},
   "source": [
    "**Print the results**"
   ]
  },
  {
   "cell_type": "code",
   "execution_count": 111,
   "id": "cb5fd757",
   "metadata": {},
   "outputs": [
    {
     "name": "stdout",
     "output_type": "stream",
     "text": [
      "The model's AUC score is: 0.8079347033590937\n",
      "The model's log loss is: 0.4511909588228589\n"
     ]
    }
   ],
   "source": [
    "print('The model\\'s AUC score is:', lr_smote_auc_score)\n",
    "print('The model\\'s log loss is:', lr_smote_logloss)"
   ]
  },
  {
   "cell_type": "markdown",
   "id": "7d5010cf",
   "metadata": {},
   "source": [
    "## Model 2: ComplementNB"
   ]
  },
  {
   "cell_type": "code",
   "execution_count": 112,
   "id": "494908df",
   "metadata": {},
   "outputs": [
    {
     "data": {
      "text/html": [
       "<style>#sk-container-id-9 {color: black;}#sk-container-id-9 pre{padding: 0;}#sk-container-id-9 div.sk-toggleable {background-color: white;}#sk-container-id-9 label.sk-toggleable__label {cursor: pointer;display: block;width: 100%;margin-bottom: 0;padding: 0.3em;box-sizing: border-box;text-align: center;}#sk-container-id-9 label.sk-toggleable__label-arrow:before {content: \"▸\";float: left;margin-right: 0.25em;color: #696969;}#sk-container-id-9 label.sk-toggleable__label-arrow:hover:before {color: black;}#sk-container-id-9 div.sk-estimator:hover label.sk-toggleable__label-arrow:before {color: black;}#sk-container-id-9 div.sk-toggleable__content {max-height: 0;max-width: 0;overflow: hidden;text-align: left;background-color: #f0f8ff;}#sk-container-id-9 div.sk-toggleable__content pre {margin: 0.2em;color: black;border-radius: 0.25em;background-color: #f0f8ff;}#sk-container-id-9 input.sk-toggleable__control:checked~div.sk-toggleable__content {max-height: 200px;max-width: 100%;overflow: auto;}#sk-container-id-9 input.sk-toggleable__control:checked~label.sk-toggleable__label-arrow:before {content: \"▾\";}#sk-container-id-9 div.sk-estimator input.sk-toggleable__control:checked~label.sk-toggleable__label {background-color: #d4ebff;}#sk-container-id-9 div.sk-label input.sk-toggleable__control:checked~label.sk-toggleable__label {background-color: #d4ebff;}#sk-container-id-9 input.sk-hidden--visually {border: 0;clip: rect(1px 1px 1px 1px);clip: rect(1px, 1px, 1px, 1px);height: 1px;margin: -1px;overflow: hidden;padding: 0;position: absolute;width: 1px;}#sk-container-id-9 div.sk-estimator {font-family: monospace;background-color: #f0f8ff;border: 1px dotted black;border-radius: 0.25em;box-sizing: border-box;margin-bottom: 0.5em;}#sk-container-id-9 div.sk-estimator:hover {background-color: #d4ebff;}#sk-container-id-9 div.sk-parallel-item::after {content: \"\";width: 100%;border-bottom: 1px solid gray;flex-grow: 1;}#sk-container-id-9 div.sk-label:hover label.sk-toggleable__label {background-color: #d4ebff;}#sk-container-id-9 div.sk-serial::before {content: \"\";position: absolute;border-left: 1px solid gray;box-sizing: border-box;top: 0;bottom: 0;left: 50%;z-index: 0;}#sk-container-id-9 div.sk-serial {display: flex;flex-direction: column;align-items: center;background-color: white;padding-right: 0.2em;padding-left: 0.2em;position: relative;}#sk-container-id-9 div.sk-item {position: relative;z-index: 1;}#sk-container-id-9 div.sk-parallel {display: flex;align-items: stretch;justify-content: center;background-color: white;position: relative;}#sk-container-id-9 div.sk-item::before, #sk-container-id-9 div.sk-parallel-item::before {content: \"\";position: absolute;border-left: 1px solid gray;box-sizing: border-box;top: 0;bottom: 0;left: 50%;z-index: -1;}#sk-container-id-9 div.sk-parallel-item {display: flex;flex-direction: column;z-index: 1;position: relative;background-color: white;}#sk-container-id-9 div.sk-parallel-item:first-child::after {align-self: flex-end;width: 50%;}#sk-container-id-9 div.sk-parallel-item:last-child::after {align-self: flex-start;width: 50%;}#sk-container-id-9 div.sk-parallel-item:only-child::after {width: 0;}#sk-container-id-9 div.sk-dashed-wrapped {border: 1px dashed gray;margin: 0 0.4em 0.5em 0.4em;box-sizing: border-box;padding-bottom: 0.4em;background-color: white;}#sk-container-id-9 div.sk-label label {font-family: monospace;font-weight: bold;display: inline-block;line-height: 1.2em;}#sk-container-id-9 div.sk-label-container {text-align: center;}#sk-container-id-9 div.sk-container {/* jupyter's `normalize.less` sets `[hidden] { display: none; }` but bootstrap.min.css set `[hidden] { display: none !important; }` so we also need the `!important` here to be able to override the default hidden behavior on the sphinx rendered scikit-learn.org. See: https://github.com/scikit-learn/scikit-learn/issues/21755 */display: inline-block !important;position: relative;}#sk-container-id-9 div.sk-text-repr-fallback {display: none;}</style><div id=\"sk-container-id-9\" class=\"sk-top-container\"><div class=\"sk-text-repr-fallback\"><pre>ComplementNB()</pre><b>In a Jupyter environment, please rerun this cell to show the HTML representation or trust the notebook. <br />On GitHub, the HTML representation is unable to render, please try loading this page with nbviewer.org.</b></div><div class=\"sk-container\" hidden><div class=\"sk-item\"><div class=\"sk-estimator sk-toggleable\"><input class=\"sk-toggleable__control sk-hidden--visually\" id=\"sk-estimator-id-9\" type=\"checkbox\" checked><label for=\"sk-estimator-id-9\" class=\"sk-toggleable__label sk-toggleable__label-arrow\">ComplementNB</label><div class=\"sk-toggleable__content\"><pre>ComplementNB()</pre></div></div></div></div></div>"
      ],
      "text/plain": [
       "ComplementNB()"
      ]
     },
     "execution_count": 112,
     "metadata": {},
     "output_type": "execute_result"
    }
   ],
   "source": [
    "#fitting Complement naive bayes model with balanced data.\n",
    "cnb_smote_model = ComplementNB()\n",
    "cnb_smote_model.fit(X_train_smote,y_train_smote)"
   ]
  },
  {
   "cell_type": "markdown",
   "id": "6ed346ee",
   "metadata": {},
   "source": [
    "**Make predictions**"
   ]
  },
  {
   "cell_type": "code",
   "execution_count": 113,
   "id": "f2a7dc7a",
   "metadata": {},
   "outputs": [],
   "source": [
    "cnb_smote_proba = cnb_smote_model.predict_proba(Xeval_final)\n",
    "cnb_smote_preds = cnb_smote_model.predict(Xeval_final)"
   ]
  },
  {
   "cell_type": "code",
   "execution_count": 114,
   "id": "77bb7241",
   "metadata": {},
   "outputs": [],
   "source": [
    "# Calculate the ROC AUC score\n",
    "cnb_smote_auc_score = roc_auc_score(y_validation, cnb_smote_preds)\n",
    "\n",
    "# Calculate the log loss\n",
    "cnb_smote_logloss = log_loss(y_validation, cnb_smote_proba)\n"
   ]
  },
  {
   "cell_type": "markdown",
   "id": "bd9ac51d",
   "metadata": {},
   "source": [
    "**Print the results**"
   ]
  },
  {
   "cell_type": "code",
   "execution_count": 115,
   "id": "c405a550",
   "metadata": {},
   "outputs": [
    {
     "name": "stdout",
     "output_type": "stream",
     "text": [
      "The model's AUC score is: 0.7576854656893081\n",
      "The model's log loss is: 0.5181585137170527\n"
     ]
    }
   ],
   "source": [
    "print('The model\\'s AUC score is:', cnb_smote_auc_score)\n",
    "print('The model\\'s log loss is:', cnb_smote_logloss)"
   ]
  },
  {
   "cell_type": "markdown",
   "id": "579da6f9",
   "metadata": {},
   "source": [
    "## Model 3: GaussianNB"
   ]
  },
  {
   "cell_type": "code",
   "execution_count": 116,
   "id": "0db5eb58",
   "metadata": {},
   "outputs": [
    {
     "data": {
      "text/html": [
       "<style>#sk-container-id-10 {color: black;}#sk-container-id-10 pre{padding: 0;}#sk-container-id-10 div.sk-toggleable {background-color: white;}#sk-container-id-10 label.sk-toggleable__label {cursor: pointer;display: block;width: 100%;margin-bottom: 0;padding: 0.3em;box-sizing: border-box;text-align: center;}#sk-container-id-10 label.sk-toggleable__label-arrow:before {content: \"▸\";float: left;margin-right: 0.25em;color: #696969;}#sk-container-id-10 label.sk-toggleable__label-arrow:hover:before {color: black;}#sk-container-id-10 div.sk-estimator:hover label.sk-toggleable__label-arrow:before {color: black;}#sk-container-id-10 div.sk-toggleable__content {max-height: 0;max-width: 0;overflow: hidden;text-align: left;background-color: #f0f8ff;}#sk-container-id-10 div.sk-toggleable__content pre {margin: 0.2em;color: black;border-radius: 0.25em;background-color: #f0f8ff;}#sk-container-id-10 input.sk-toggleable__control:checked~div.sk-toggleable__content {max-height: 200px;max-width: 100%;overflow: auto;}#sk-container-id-10 input.sk-toggleable__control:checked~label.sk-toggleable__label-arrow:before {content: \"▾\";}#sk-container-id-10 div.sk-estimator input.sk-toggleable__control:checked~label.sk-toggleable__label {background-color: #d4ebff;}#sk-container-id-10 div.sk-label input.sk-toggleable__control:checked~label.sk-toggleable__label {background-color: #d4ebff;}#sk-container-id-10 input.sk-hidden--visually {border: 0;clip: rect(1px 1px 1px 1px);clip: rect(1px, 1px, 1px, 1px);height: 1px;margin: -1px;overflow: hidden;padding: 0;position: absolute;width: 1px;}#sk-container-id-10 div.sk-estimator {font-family: monospace;background-color: #f0f8ff;border: 1px dotted black;border-radius: 0.25em;box-sizing: border-box;margin-bottom: 0.5em;}#sk-container-id-10 div.sk-estimator:hover {background-color: #d4ebff;}#sk-container-id-10 div.sk-parallel-item::after {content: \"\";width: 100%;border-bottom: 1px solid gray;flex-grow: 1;}#sk-container-id-10 div.sk-label:hover label.sk-toggleable__label {background-color: #d4ebff;}#sk-container-id-10 div.sk-serial::before {content: \"\";position: absolute;border-left: 1px solid gray;box-sizing: border-box;top: 0;bottom: 0;left: 50%;z-index: 0;}#sk-container-id-10 div.sk-serial {display: flex;flex-direction: column;align-items: center;background-color: white;padding-right: 0.2em;padding-left: 0.2em;position: relative;}#sk-container-id-10 div.sk-item {position: relative;z-index: 1;}#sk-container-id-10 div.sk-parallel {display: flex;align-items: stretch;justify-content: center;background-color: white;position: relative;}#sk-container-id-10 div.sk-item::before, #sk-container-id-10 div.sk-parallel-item::before {content: \"\";position: absolute;border-left: 1px solid gray;box-sizing: border-box;top: 0;bottom: 0;left: 50%;z-index: -1;}#sk-container-id-10 div.sk-parallel-item {display: flex;flex-direction: column;z-index: 1;position: relative;background-color: white;}#sk-container-id-10 div.sk-parallel-item:first-child::after {align-self: flex-end;width: 50%;}#sk-container-id-10 div.sk-parallel-item:last-child::after {align-self: flex-start;width: 50%;}#sk-container-id-10 div.sk-parallel-item:only-child::after {width: 0;}#sk-container-id-10 div.sk-dashed-wrapped {border: 1px dashed gray;margin: 0 0.4em 0.5em 0.4em;box-sizing: border-box;padding-bottom: 0.4em;background-color: white;}#sk-container-id-10 div.sk-label label {font-family: monospace;font-weight: bold;display: inline-block;line-height: 1.2em;}#sk-container-id-10 div.sk-label-container {text-align: center;}#sk-container-id-10 div.sk-container {/* jupyter's `normalize.less` sets `[hidden] { display: none; }` but bootstrap.min.css set `[hidden] { display: none !important; }` so we also need the `!important` here to be able to override the default hidden behavior on the sphinx rendered scikit-learn.org. See: https://github.com/scikit-learn/scikit-learn/issues/21755 */display: inline-block !important;position: relative;}#sk-container-id-10 div.sk-text-repr-fallback {display: none;}</style><div id=\"sk-container-id-10\" class=\"sk-top-container\"><div class=\"sk-text-repr-fallback\"><pre>GaussianNB()</pre><b>In a Jupyter environment, please rerun this cell to show the HTML representation or trust the notebook. <br />On GitHub, the HTML representation is unable to render, please try loading this page with nbviewer.org.</b></div><div class=\"sk-container\" hidden><div class=\"sk-item\"><div class=\"sk-estimator sk-toggleable\"><input class=\"sk-toggleable__control sk-hidden--visually\" id=\"sk-estimator-id-10\" type=\"checkbox\" checked><label for=\"sk-estimator-id-10\" class=\"sk-toggleable__label sk-toggleable__label-arrow\">GaussianNB</label><div class=\"sk-toggleable__content\"><pre>GaussianNB()</pre></div></div></div></div></div>"
      ],
      "text/plain": [
       "GaussianNB()"
      ]
     },
     "execution_count": 116,
     "metadata": {},
     "output_type": "execute_result"
    }
   ],
   "source": [
    "#fitting logistic regression model with balanced data.\n",
    "gnb_smote_model =  GaussianNB()\n",
    "gnb_smote_model.fit(X_train_smote,y_train_smote)"
   ]
  },
  {
   "cell_type": "markdown",
   "id": "87a0422f",
   "metadata": {},
   "source": [
    "**Make predictions**"
   ]
  },
  {
   "cell_type": "code",
   "execution_count": 117,
   "id": "95776594",
   "metadata": {},
   "outputs": [],
   "source": [
    "gnb_smote_proba = gnb_smote_model.predict_proba(Xeval_final)\n",
    "gnb_smote_preds = gnb_smote_model.predict(Xeval_final)"
   ]
  },
  {
   "cell_type": "code",
   "execution_count": 118,
   "id": "48c74e26",
   "metadata": {},
   "outputs": [],
   "source": [
    "# Calculate the ROC AUC score\n",
    "gnb_smote_auc_score = roc_auc_score(y_validation, gnb_smote_preds)\n",
    "\n",
    "# Calculate the log loss\n",
    "gnb_smote_logloss = log_loss(y_validation, gnb_smote_proba)"
   ]
  },
  {
   "cell_type": "code",
   "execution_count": 119,
   "id": "59324304",
   "metadata": {},
   "outputs": [
    {
     "name": "stdout",
     "output_type": "stream",
     "text": [
      "The model's AUC score is: 0.739900904305255\n",
      "The model's log loss is: 7.675727861034086\n"
     ]
    }
   ],
   "source": [
    "print('The model\\'s AUC score is:', gnb_smote_auc_score)\n",
    "print('The model\\'s log loss is:', gnb_smote_logloss)"
   ]
  },
  {
   "cell_type": "markdown",
   "id": "8de17544",
   "metadata": {},
   "source": [
    "## Comparison table for the balanced dataset with SMOTE method"
   ]
  },
  {
   "cell_type": "code",
   "execution_count": 120,
   "id": "0cf2bc66",
   "metadata": {},
   "outputs": [],
   "source": [
    "Smote_results_table= {'models':['Logistic Regression','ComplementNB','GaussianNB'],\n",
    "         'AUC_score':[lr_smote_auc_score,cnb_smote_auc_score,cnb_smote_auc_score],\n",
    "         'log_loss':[lr_logloss,cnb_smote_logloss,gnb_smote_logloss]}\n",
    "Smote_results_table= pd.DataFrame(Smote_results_table)"
   ]
  },
  {
   "cell_type": "code",
   "execution_count": 121,
   "id": "c1f62cf5",
   "metadata": {},
   "outputs": [
    {
     "data": {
      "text/html": [
       "<div>\n",
       "<style scoped>\n",
       "    .dataframe tbody tr th:only-of-type {\n",
       "        vertical-align: middle;\n",
       "    }\n",
       "\n",
       "    .dataframe tbody tr th {\n",
       "        vertical-align: top;\n",
       "    }\n",
       "\n",
       "    .dataframe thead th {\n",
       "        text-align: right;\n",
       "    }\n",
       "</style>\n",
       "<table border=\"1\" class=\"dataframe\">\n",
       "  <thead>\n",
       "    <tr style=\"text-align: right;\">\n",
       "      <th></th>\n",
       "      <th>models</th>\n",
       "      <th>AUC_score</th>\n",
       "      <th>log_loss</th>\n",
       "    </tr>\n",
       "  </thead>\n",
       "  <tbody>\n",
       "    <tr>\n",
       "      <th>0</th>\n",
       "      <td>Logistic Regression</td>\n",
       "      <td>0.807935</td>\n",
       "      <td>0.164242</td>\n",
       "    </tr>\n",
       "    <tr>\n",
       "      <th>1</th>\n",
       "      <td>ComplementNB</td>\n",
       "      <td>0.757685</td>\n",
       "      <td>0.518159</td>\n",
       "    </tr>\n",
       "    <tr>\n",
       "      <th>2</th>\n",
       "      <td>GaussianNB</td>\n",
       "      <td>0.757685</td>\n",
       "      <td>7.675728</td>\n",
       "    </tr>\n",
       "  </tbody>\n",
       "</table>\n",
       "</div>"
      ],
      "text/plain": [
       "                models  AUC_score  log_loss\n",
       "0  Logistic Regression   0.807935  0.164242\n",
       "1         ComplementNB   0.757685  0.518159\n",
       "2           GaussianNB   0.757685  7.675728"
      ]
     },
     "execution_count": 121,
     "metadata": {},
     "output_type": "execute_result"
    }
   ],
   "source": [
    "Smote_results_table.sort_values(by= 'AUC_score', ascending = False)"
   ]
  },
  {
   "cell_type": "markdown",
   "id": "cf43ac32",
   "metadata": {},
   "source": [
    "## Saving key components in the current working directory"
   ]
  },
  {
   "cell_type": "code",
   "execution_count": 122,
   "id": "ba184301",
   "metadata": {},
   "outputs": [
    {
     "name": "stdout",
     "output_type": "stream",
     "text": [
      "Numerical Imputer exported to: C:\\Users\\user\\Desktop\\AZUBI AFRICA\\SecondPhase\\CapstoneProject\\Notebook\\key_comp\\numerical_imputer.joblib\n",
      "Categorical Imputer exported to: C:\\Users\\user\\Desktop\\AZUBI AFRICA\\SecondPhase\\CapstoneProject\\Notebook\\key_comp\\cat_imputer.joblib\n",
      "Encoder exported to: C:\\Users\\user\\Desktop\\AZUBI AFRICA\\SecondPhase\\CapstoneProject\\Notebook\\key_comp\\encoder.joblib\n",
      "Scaler exported to: C:\\Users\\user\\Desktop\\AZUBI AFRICA\\SecondPhase\\CapstoneProject\\Notebook\\key_comp\\scaler.joblib\n",
      "Logistic Regression Model exported to: C:\\Users\\user\\Desktop\\AZUBI AFRICA\\SecondPhase\\CapstoneProject\\Notebook\\key_comp\\lr_smote_model.joblib\n",
      "complementNB Model exported to: C:\\Users\\user\\Desktop\\AZUBI AFRICA\\SecondPhase\\CapstoneProject\\Notebook\\key_comp\\cnb_smote_model.joblib\n"
     ]
    }
   ],
   "source": [
    " # Get the current working directory\n",
    "cwd = os.getcwd()\n",
    "\n",
    "# Specify the relative path to the destination directory\n",
    "destination = os.path.join(cwd, \"key_comp\")\n",
    "\n",
    "# Create the \"key_comp\" directory if it doesn't exist\n",
    "os.makedirs(destination, exist_ok=True)\n",
    "\n",
    "# Export the imputer\n",
    "num_imputer_filepath = os.path.join(destination, \"numerical_imputer.joblib\")\n",
    "try:\n",
    "    dump(numerical_imputer, num_imputer_filepath)\n",
    "    print(f\"Numerical Imputer exported to: {num_imputer_filepath}\")\n",
    "except Exception as e:\n",
    "    print(f\"Failed to export Numerical Imputer: {str(e)}\")\n",
    "\n",
    "cat_imputer_filepath = os.path.join(destination, \"cat_imputer.joblib\")\n",
    "try:\n",
    "    dump(cat_imputer, cat_imputer_filepath)\n",
    "    print(f\"Categorical Imputer exported to: {cat_imputer_filepath}\")\n",
    "except Exception as e:\n",
    "    print(f\"Failed to export Categorical Imputer: {str(e)}\")\n",
    "\n",
    "# Export the Encoder\n",
    "encoder_filepath = os.path.join(destination, \"encoder.joblib\")\n",
    "try:\n",
    "    dump(encoder, encoder_filepath)\n",
    "    print(f\"Encoder exported to: {encoder_filepath}\")\n",
    "except Exception as e:\n",
    "    print(f\"Failed to export Encoder: {str(e)}\")\n",
    "\n",
    "# Export the scaler\n",
    "scaler_filepath = os.path.join(destination, \"scaler.joblib\")\n",
    "try:\n",
    "    dump(scaler, scaler_filepath)\n",
    "    print(f\"Scaler exported to: {scaler_filepath}\")\n",
    "except Exception as e:\n",
    "    print(f\"Failed to export Scaler: {str(e)}\")\n",
    "\n",
    "# Export the models\n",
    "lr_model_filepath = os.path.join(destination, \"lr_smote_model.joblib\")\n",
    "try:\n",
    "    dump(lr_smote_model, lr_model_filepath)\n",
    "    print(f\"Logistic Regression Model exported to: {lr_model_filepath}\")\n",
    "except Exception as e:\n",
    "    print(f\"Failed to export Logistic Regression Model: {str(e)}\")\n",
    "\n",
    "cnb_model_filepath = os.path.join(destination, \"cnb_smote_model.joblib\")\n",
    "try:\n",
    "    dump(cnb_smote_model, cnb_model_filepath)\n",
    "    print(f\"complementNB Model exported to: {cnb_model_filepath}\")\n",
    "except Exception as e:\n",
    "    print(f\"Failed to export complementNB Model: {str(e)}\")\n"
   ]
  },
  {
   "cell_type": "code",
   "execution_count": null,
   "id": "46d19873",
   "metadata": {},
   "outputs": [],
   "source": []
  },
  {
   "cell_type": "code",
   "execution_count": null,
   "id": "7c62355b",
   "metadata": {},
   "outputs": [],
   "source": []
  },
  {
   "cell_type": "code",
   "execution_count": null,
   "id": "45328859",
   "metadata": {},
   "outputs": [],
   "source": []
  },
  {
   "cell_type": "code",
   "execution_count": null,
   "id": "b0064b1d",
   "metadata": {},
   "outputs": [],
   "source": []
  },
  {
   "cell_type": "code",
   "execution_count": null,
   "id": "6bd0ef0f",
   "metadata": {},
   "outputs": [],
   "source": []
  },
  {
   "cell_type": "markdown",
   "id": "84eaa581",
   "metadata": {},
   "source": [
    "**Here, we are going to encode all the numerical variables, drop the the target variable and train 3 to 5 models**"
   ]
  },
  {
   "cell_type": "code",
   "execution_count": null,
   "id": "2a302162",
   "metadata": {},
   "outputs": [],
   "source": []
  }
 ],
 "metadata": {
  "kernelspec": {
   "display_name": "Python 3",
   "language": "python",
   "name": "python3"
  },
  "language_info": {
   "codemirror_mode": {
    "name": "ipython",
    "version": 3
   },
   "file_extension": ".py",
   "mimetype": "text/x-python",
   "name": "python",
   "nbconvert_exporter": "python",
   "pygments_lexer": "ipython3",
   "version": "3.8.8"
  }
 },
 "nbformat": 4,
 "nbformat_minor": 5
}
